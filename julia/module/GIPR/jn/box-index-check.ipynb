{
 "cells": [
  {
   "cell_type": "code",
   "execution_count": 2,
   "id": "a3cb3c15",
   "metadata": {},
   "outputs": [],
   "source": [
    "using Lattices"
   ]
  },
  {
   "cell_type": "markdown",
   "id": "df821bd9",
   "metadata": {},
   "source": [
    "# 1D Box index"
   ]
  },
  {
   "cell_type": "code",
   "execution_count": 33,
   "id": "e1a126b1",
   "metadata": {},
   "outputs": [
    {
     "data": {
      "text/plain": [
       "box_indices (generic function with 4 methods)"
      ]
     },
     "execution_count": 33,
     "metadata": {},
     "output_type": "execute_result"
    }
   ],
   "source": [
    "function box_indices(ltc::Lattice1D, b)\n",
    "    @assert ltc.N%b == 0\n",
    "    L = ltc.N\n",
    "    U = ltc.U\n",
    "    box_pts = U*b \n",
    "    box_num = L÷b \n",
    "    inds = Array{Int64}(undef, box_pts, box_num)\n",
    "    box_count=1 \n",
    "    for x in 1:b:L-b+1\n",
    "        for n in 0:b-1, u in 1:U \n",
    "            inds[U*n+u, box_count] = index(ltc, (x+n, u)) \n",
    "        end \n",
    "        box_count += 1\n",
    "    end \n",
    "    return inds\n",
    "end"
   ]
  },
  {
   "cell_type": "code",
   "execution_count": 5,
   "id": "62706fa0",
   "metadata": {},
   "outputs": [
    {
     "data": {
      "text/plain": [
       "4"
      ]
     },
     "metadata": {},
     "output_type": "display_data"
    },
    {
     "data": {
      "text/plain": [
       "4×50 Matrix{Int64}:\n",
       " 1  5   9  13  17  21  25  29  33  37  …  173  177  181  185  189  193  197\n",
       " 2  6  10  14  18  22  26  30  34  38     174  178  182  186  190  194  198\n",
       " 3  7  11  15  19  23  27  31  35  39     175  179  183  187  191  195  199\n",
       " 4  8  12  16  20  24  28  32  36  40     176  180  184  188  192  196  200"
      ]
     },
     "execution_count": 5,
     "metadata": {},
     "output_type": "execute_result"
    }
   ],
   "source": [
    "ltc = Lattice1D(100, 2)\n",
    "box_indices(ltc, 2)"
   ]
  },
  {
   "cell_type": "code",
   "execution_count": 6,
   "id": "2df26b76",
   "metadata": {},
   "outputs": [
    {
     "data": {
      "text/plain": [
       "27"
      ]
     },
     "metadata": {},
     "output_type": "display_data"
    },
    {
     "data": {
      "text/plain": [
       "27×11 Matrix{Int64}:\n",
       "  1  28  55   82  109  136  163  190  217  244  271\n",
       "  2  29  56   83  110  137  164  191  218  245  272\n",
       "  3  30  57   84  111  138  165  192  219  246  273\n",
       "  4  31  58   85  112  139  166  193  220  247  274\n",
       "  5  32  59   86  113  140  167  194  221  248  275\n",
       "  6  33  60   87  114  141  168  195  222  249  276\n",
       "  7  34  61   88  115  142  169  196  223  250  277\n",
       "  8  35  62   89  116  143  170  197  224  251  278\n",
       "  9  36  63   90  117  144  171  198  225  252  279\n",
       " 10  37  64   91  118  145  172  199  226  253  280\n",
       " 11  38  65   92  119  146  173  200  227  254  281\n",
       " 12  39  66   93  120  147  174  201  228  255  282\n",
       " 13  40  67   94  121  148  175  202  229  256  283\n",
       "  ⋮                      ⋮                        ⋮\n",
       " 16  43  70   97  124  151  178  205  232  259  286\n",
       " 17  44  71   98  125  152  179  206  233  260  287\n",
       " 18  45  72   99  126  153  180  207  234  261  288\n",
       " 19  46  73  100  127  154  181  208  235  262  289\n",
       " 20  47  74  101  128  155  182  209  236  263  290\n",
       " 21  48  75  102  129  156  183  210  237  264  291\n",
       " 22  49  76  103  130  157  184  211  238  265  292\n",
       " 23  50  77  104  131  158  185  212  239  266  293\n",
       " 24  51  78  105  132  159  186  213  240  267  294\n",
       " 25  52  79  106  133  160  187  214  241  268  295\n",
       " 26  53  80  107  134  161  188  215  242  269  296\n",
       " 27  54  81  108  135  162  189  216  243  270  297"
      ]
     },
     "execution_count": 6,
     "metadata": {},
     "output_type": "execute_result"
    }
   ],
   "source": [
    "ltc = Lattice1D(99, 3)\n",
    "box_indices(ltc, 9)"
   ]
  },
  {
   "cell_type": "markdown",
   "id": "8d9915d6",
   "metadata": {},
   "source": [
    "# 2D Box index"
   ]
  },
  {
   "cell_type": "code",
   "execution_count": 7,
   "id": "99b7cdd6",
   "metadata": {},
   "outputs": [
    {
     "data": {
      "text/plain": [
       "box_indices (generic function with 2 methods)"
      ]
     },
     "execution_count": 7,
     "metadata": {},
     "output_type": "execute_result"
    }
   ],
   "source": [
    "function box_indices(ltc::Lattice2D, b)\n",
    "    @assert ltc.N%b == 0\n",
    "    L = ltc.N\n",
    "    U = ltc.U\n",
    "    box_pts = U*b^2 \n",
    "    box_num = L^2÷b^2 \n",
    "    display(box_pts)\n",
    "    inds = Array{Int64}(undef, box_pts, box_num)\n",
    "    box_count=1 \n",
    "    for x in 1:b:L-b+1, y in 1:b:L-b+1\n",
    "        idx_count = 1\n",
    "        for m in 0:b-1, n in 0:b-1, u in 1:U \n",
    "            inds[idx_count, box_count] = index(ltc, (x+m,y+n, u)) \n",
    "            idx_count += 1\n",
    "        end \n",
    "        box_count += 1\n",
    "    end \n",
    "    return inds\n",
    "end"
   ]
  },
  {
   "cell_type": "code",
   "execution_count": 8,
   "id": "2bbf923b",
   "metadata": {},
   "outputs": [
    {
     "data": {
      "text/plain": [
       "4"
      ]
     },
     "metadata": {},
     "output_type": "display_data"
    },
    {
     "data": {
      "text/plain": [
       "4×25 Matrix{Int64}:\n",
       "  1   3   5   7   9  21  23  25  27  …  63  65  67  69  81  83  85  87   89\n",
       "  2   4   6   8  10  22  24  26  28     64  66  68  70  82  84  86  88   90\n",
       " 11  13  15  17  19  31  33  35  37     73  75  77  79  91  93  95  97   99\n",
       " 12  14  16  18  20  32  34  36  38     74  76  78  80  92  94  96  98  100"
      ]
     },
     "execution_count": 8,
     "metadata": {},
     "output_type": "execute_result"
    }
   ],
   "source": [
    "ltc = Lattice2D(10, 10, 1)\n",
    "box_indices(ltc, 2)"
   ]
  },
  {
   "cell_type": "code",
   "execution_count": 9,
   "id": "0b27b96a",
   "metadata": {},
   "outputs": [
    {
     "data": {
      "text/plain": [
       "box_indices (generic function with 3 methods)"
      ]
     },
     "execution_count": 9,
     "metadata": {},
     "output_type": "execute_result"
    }
   ],
   "source": [
    "function box_indices(ltc::Lattice3D, b)\n",
    "    @assert ltc.N%b == 0 && ltc.L == ltc.M == ltc.N\n",
    "    L = ltc.N\n",
    "    U = ltc.U\n",
    "    box_pts = U*b^3\n",
    "    box_num = L^3÷b^3 \n",
    "    display(box_pts)\n",
    "    inds = Array{Int64}(undef, box_pts, box_num)\n",
    "    box_count=1 \n",
    "    for x in 1:b:L-b+1, y in 1:b:L-b+1, z in 1:b:L-b+1\n",
    "        idx_count = 1\n",
    "        for l in 0:b-1, m in 0:b-1, n in 0:b-1, u in 1:U \n",
    "            inds[idx_count, box_count] = index(ltc, (x+l,y+m,z+n, u)) \n",
    "            idx_count += 1\n",
    "        end \n",
    "        box_count += 1\n",
    "    end \n",
    "    return inds\n",
    "end"
   ]
  },
  {
   "cell_type": "code",
   "execution_count": 72,
   "id": "a88fbd6d",
   "metadata": {},
   "outputs": [
    {
     "data": {
      "text/plain": [
       "8"
      ]
     },
     "metadata": {},
     "output_type": "display_data"
    },
    {
     "name": "stdout",
     "output_type": "stream",
     "text": [
      "  0.012933 seconds (202 allocations: 7.643 MiB)\n"
     ]
    },
    {
     "data": {
      "text/plain": [
       "8×125000 Matrix{Int64}:\n",
       "     1      3      5      7      9     11  …  989893  989895  989897   989899\n",
       "     2      4      6      8     10     12     989894  989896  989898   989900\n",
       "   101    103    105    107    109    111     989993  989995  989997   989999\n",
       "   102    104    106    108    110    112     989994  989996  989998   990000\n",
       " 10001  10003  10005  10007  10009  10011     999893  999895  999897   999899\n",
       " 10002  10004  10006  10008  10010  10012  …  999894  999896  999898   999900\n",
       " 10101  10103  10105  10107  10109  10111     999993  999995  999997   999999\n",
       " 10102  10104  10106  10108  10110  10112     999994  999996  999998  1000000"
      ]
     },
     "execution_count": 72,
     "metadata": {},
     "output_type": "execute_result"
    }
   ],
   "source": [
    "ltc = Lattice3D(100, 100, 100, 1)\n",
    "@time box_indices(ltc, 2)"
   ]
  },
  {
   "cell_type": "code",
   "execution_count": 60,
   "id": "d037aa8f",
   "metadata": {},
   "outputs": [
    {
     "data": {
      "text/plain": [
       "box_coarse (generic function with 1 method)"
      ]
     },
     "execution_count": 60,
     "metadata": {},
     "output_type": "execute_result"
    }
   ],
   "source": [
    "function box_coarse(p, box_inds)\n",
    "    @assert size(p, 1) == length(box_inds) \n",
    "    p_coarse  = Array{eltype(p)}(undef, size(box_inds, 2), size(p, 2)) \n",
    "    for j in 1:size(p, 2), i in 1:size(box_inds, 2)\n",
    "        p_coarse[i, j] = sum(p[box_inds[:, i], j])\n",
    "    end\n",
    "    \n",
    "    if typeof(p) <: Vector\n",
    "        return vec(p)\n",
    "    else\n",
    "        return p_coarse\n",
    "    end\n",
    "end"
   ]
  },
  {
   "cell_type": "code",
   "execution_count": 67,
   "id": "9894271a",
   "metadata": {},
   "outputs": [
    {
     "data": {
      "text/plain": [
       "8"
      ]
     },
     "metadata": {},
     "output_type": "display_data"
    },
    {
     "name": "stdout",
     "output_type": "stream",
     "text": [
      "MethodInstance for box_coarse(::Matrix{Float64}, ::Matrix{Int64})\n",
      "  from box_coarse(p, box_inds) in Main at In[60]:1\n",
      "Arguments\n",
      "  #self#\u001b[36m::Core.Const(box_coarse)\u001b[39m\n",
      "  p\u001b[36m::Matrix{Float64}\u001b[39m\n",
      "  box_inds\u001b[36m::Matrix{Int64}\u001b[39m\n",
      "Locals\n",
      "  @_4\u001b[33m\u001b[1m::Union{Nothing, Tuple{Int64, Int64}}\u001b[22m\u001b[39m\n",
      "  p_coarse\u001b[36m::Matrix{Float64}\u001b[39m\n",
      "  @_6\u001b[33m\u001b[1m::Union{Nothing, Tuple{Int64, Int64}}\u001b[22m\u001b[39m\n",
      "  j@_7\u001b[36m::Int64\u001b[39m\n",
      "  i\u001b[36m::Int64\u001b[39m\n",
      "  j@_9\u001b[36m::Int64\u001b[39m\n",
      "Body\u001b[36m::Matrix{Float64}\u001b[39m\n",
      "\u001b[90m1 ──\u001b[39m       Core.NewvarNode(:(@_4))\n",
      "\u001b[90m│   \u001b[39m       Core.NewvarNode(:(p_coarse))\n",
      "\u001b[90m│   \u001b[39m %3  = Main.size(p, 1)\u001b[36m::Int64\u001b[39m\n",
      "\u001b[90m│   \u001b[39m %4  = Main.length(box_inds)\u001b[36m::Int64\u001b[39m\n",
      "\u001b[90m│   \u001b[39m %5  = (%3 == %4)\u001b[36m::Bool\u001b[39m\n",
      "\u001b[90m└───\u001b[39m       goto #3 if not %5\n",
      "\u001b[90m2 ──\u001b[39m       goto #4\n",
      "\u001b[90m3 ──\u001b[39m %8  = Base.AssertionError(\"size(p, 1) == length(box_inds)\")\u001b[91m\u001b[1m::Any\u001b[22m\u001b[39m\n",
      "\u001b[90m└───\u001b[39m       Base.throw(%8)\n",
      "\u001b[90m4 ┄─\u001b[39m %10 = Main.eltype(p)\u001b[36m::Core.Const(Float64)\u001b[39m\n",
      "\u001b[90m│   \u001b[39m %11 = Core.apply_type(Main.Array, %10)\u001b[36m::Core.Const(Array{Float64})\u001b[39m\n",
      "\u001b[90m│   \u001b[39m %12 = Main.size(box_inds, 2)\u001b[36m::Int64\u001b[39m\n",
      "\u001b[90m│   \u001b[39m %13 = Main.size(p, 2)\u001b[36m::Int64\u001b[39m\n",
      "\u001b[90m│   \u001b[39m       (p_coarse = (%11)(Main.undef, %12, %13))\n",
      "\u001b[90m│   \u001b[39m %15 = Main.size(p, 2)\u001b[36m::Int64\u001b[39m\n",
      "\u001b[90m│   \u001b[39m %16 = (1:%15)\u001b[36m::Core.PartialStruct(UnitRange{Int64}, Any[Core.Const(1), Int64])\u001b[39m\n",
      "\u001b[90m│   \u001b[39m       (@_4 = Base.iterate(%16))\n",
      "\u001b[90m│   \u001b[39m %18 = (@_4 === nothing)\u001b[36m::Bool\u001b[39m\n",
      "\u001b[90m│   \u001b[39m %19 = Base.not_int(%18)\u001b[36m::Bool\u001b[39m\n",
      "\u001b[90m└───\u001b[39m       goto #10 if not %19\n",
      "\u001b[90m5 ┄─\u001b[39m %21 = @_4\u001b[36m::Tuple{Int64, Int64}\u001b[39m\n",
      "\u001b[90m│   \u001b[39m       (j@_7 = Core.getfield(%21, 1))\n",
      "\u001b[90m│   \u001b[39m %23 = Core.getfield(%21, 2)\u001b[36m::Int64\u001b[39m\n",
      "\u001b[90m│   \u001b[39m %24 = Main.size(box_inds, 2)\u001b[36m::Int64\u001b[39m\n",
      "\u001b[90m│   \u001b[39m %25 = (1:%24)\u001b[36m::Core.PartialStruct(UnitRange{Int64}, Any[Core.Const(1), Int64])\u001b[39m\n",
      "\u001b[90m│   \u001b[39m       (@_6 = Base.iterate(%25))\n",
      "\u001b[90m│   \u001b[39m %27 = (@_6 === nothing)\u001b[36m::Bool\u001b[39m\n",
      "\u001b[90m│   \u001b[39m %28 = Base.not_int(%27)\u001b[36m::Bool\u001b[39m\n",
      "\u001b[90m└───\u001b[39m       goto #8 if not %28\n",
      "\u001b[90m6 ┄─\u001b[39m %30 = j@_7\u001b[36m::Int64\u001b[39m\n",
      "\u001b[90m│   \u001b[39m       (j@_9 = %30)\n",
      "\u001b[90m│   \u001b[39m %32 = @_6\u001b[36m::Tuple{Int64, Int64}\u001b[39m\n",
      "\u001b[90m│   \u001b[39m       (i = Core.getfield(%32, 1))\n",
      "\u001b[90m│   \u001b[39m %34 = Core.getfield(%32, 2)\u001b[36m::Int64\u001b[39m\n",
      "\u001b[90m│   \u001b[39m %35 = Base.getindex(box_inds, Main.:(:), i)\u001b[36m::Vector{Int64}\u001b[39m\n",
      "\u001b[90m│   \u001b[39m %36 = Base.getindex(p, %35, j@_9)\u001b[36m::Vector{Float64}\u001b[39m\n",
      "\u001b[90m│   \u001b[39m %37 = Main.sum(%36)\u001b[36m::Float64\u001b[39m\n",
      "\u001b[90m│   \u001b[39m       Base.setindex!(p_coarse, %37, i, j@_9)\n",
      "\u001b[90m│   \u001b[39m       (@_6 = Base.iterate(%25, %34))\n",
      "\u001b[90m│   \u001b[39m %40 = (@_6 === nothing)\u001b[36m::Bool\u001b[39m\n",
      "\u001b[90m│   \u001b[39m %41 = Base.not_int(%40)\u001b[36m::Bool\u001b[39m\n",
      "\u001b[90m└───\u001b[39m       goto #8 if not %41\n",
      "\u001b[90m7 ──\u001b[39m       goto #6\n",
      "\u001b[90m8 ┄─\u001b[39m       (@_4 = Base.iterate(%16, %23))\n",
      "\u001b[90m│   \u001b[39m %45 = (@_4 === nothing)\u001b[36m::Bool\u001b[39m\n",
      "\u001b[90m│   \u001b[39m %46 = Base.not_int(%45)\u001b[36m::Bool\u001b[39m\n",
      "\u001b[90m└───\u001b[39m       goto #10 if not %46\n",
      "\u001b[90m9 ──\u001b[39m       goto #5\n",
      "\u001b[90m10 ┄\u001b[39m %49 = Main.typeof(p)\u001b[36m::Core.Const(Matrix{Float64})\u001b[39m\n",
      "\u001b[90m│   \u001b[39m %50 = (%49 <: Main.Vector)\u001b[36m::Core.Const(false)\u001b[39m\n",
      "\u001b[90m└───\u001b[39m       goto #12 if not %50\n",
      "\u001b[90m11 ─\u001b[39m       Core.Const(:(Main.vec(p)))\n",
      "\u001b[90m└───\u001b[39m       Core.Const(:(return %52))\n",
      "\u001b[90m12 ┄\u001b[39m       return p_coarse\n",
      "\n"
     ]
    }
   ],
   "source": [
    "ltc = Lattice2D(100, 100, 2)\n",
    "box_inds = box_indices(ltc, 2)\n",
    "x = rand(20000, 2)\n",
    "@code_warntype box_coarse(x, box_inds)"
   ]
  },
  {
   "cell_type": "code",
   "execution_count": 55,
   "id": "243ae1f6",
   "metadata": {},
   "outputs": [
    {
     "data": {
      "text/plain": [
       "0.9372018146777468"
      ]
     },
     "execution_count": 55,
     "metadata": {},
     "output_type": "execute_result"
    }
   ],
   "source": [
    "sum(x[1:4])"
   ]
  },
  {
   "cell_type": "code",
   "execution_count": null,
   "id": "3163bfdf",
   "metadata": {},
   "outputs": [],
   "source": []
  }
 ],
 "metadata": {
  "kernelspec": {
   "display_name": "Julia 1.7.2",
   "language": "julia",
   "name": "julia-1.7"
  },
  "language_info": {
   "file_extension": ".jl",
   "mimetype": "application/julia",
   "name": "julia",
   "version": "1.7.2"
  }
 },
 "nbformat": 4,
 "nbformat_minor": 5
}
