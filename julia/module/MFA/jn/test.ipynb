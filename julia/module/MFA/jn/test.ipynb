{
 "cells": [
  {
   "cell_type": "code",
   "execution_count": 39,
   "id": "a483354e",
   "metadata": {},
   "outputs": [],
   "source": [
    "using MFA.Ensemble\n",
    "using Lattices\n",
    "using LinearAlgebra"
   ]
  },
  {
   "cell_type": "code",
   "execution_count": 40,
   "id": "5b80c99f",
   "metadata": {},
   "outputs": [
    {
     "data": {
      "text/plain": [
       "Lattice2D{Int64}(100, 100, 1)"
      ]
     },
     "execution_count": 40,
     "metadata": {},
     "output_type": "execute_result"
    }
   ],
   "source": [
    "ltc = Lattice2D(100, 100, 1)"
   ]
  },
  {
   "cell_type": "code",
   "execution_count": 41,
   "id": "5eaa967d",
   "metadata": {},
   "outputs": [
    {
     "data": {
      "text/plain": [
       "MFAParameters{Lattice2D{Int64}}(Lattice2D{Int64}(100, 100, 1), [1], [2.0], Matrix{Int64}[])"
      ]
     },
     "execution_count": 41,
     "metadata": {},
     "output_type": "execute_result"
    }
   ],
   "source": [
    "p = MFAParameters(ltc, [1], [2])"
   ]
  },
  {
   "cell_type": "code",
   "execution_count": 42,
   "id": "7b536201",
   "metadata": {},
   "outputs": [],
   "source": [
    "prepare_MFA!(p)"
   ]
  },
  {
   "cell_type": "code",
   "execution_count": 82,
   "id": "a350ef07",
   "metadata": {},
   "outputs": [
    {
     "data": {
      "text/plain": [
       "10000-element Vector{Float64}:\n",
       " 1.0\n",
       " 0.0\n",
       " 0.0\n",
       " 0.0\n",
       " 0.0\n",
       " 0.0\n",
       " 0.0\n",
       " 0.0\n",
       " 0.0\n",
       " 0.0\n",
       " 0.0\n",
       " 0.0\n",
       " 0.0\n",
       " ⋮\n",
       " 0.0\n",
       " 0.0\n",
       " 0.0\n",
       " 0.0\n",
       " 0.0\n",
       " 0.0\n",
       " 0.0\n",
       " 0.0\n",
       " 0.0\n",
       " 0.0\n",
       " 0.0\n",
       " 0.0"
      ]
     },
     "execution_count": 82,
     "metadata": {},
     "output_type": "execute_result"
    }
   ],
   "source": [
    "v = zeros(10000);\n",
    "v[1] = 1\n",
    "v = normalize(v)"
   ]
  },
  {
   "cell_type": "code",
   "execution_count": 83,
   "id": "deda7ce3",
   "metadata": {},
   "outputs": [
    {
     "data": {
      "text/plain": [
       "([1.0;;], [0.0;;])"
      ]
     },
     "execution_count": 83,
     "metadata": {},
     "output_type": "execute_result"
    }
   ],
   "source": [
    "gipr, _ = compute_gipr_2(p, v)"
   ]
  },
  {
   "cell_type": "code",
   "execution_count": 84,
   "id": "1019894d",
   "metadata": {},
   "outputs": [
    {
     "data": {
      "text/plain": [
       "1×1 Matrix{Float64}:\n",
       " 1.0"
      ]
     },
     "execution_count": 84,
     "metadata": {},
     "output_type": "execute_result"
    }
   ],
   "source": [
    "gipr"
   ]
  },
  {
   "cell_type": "code",
   "execution_count": 85,
   "id": "8d26f462",
   "metadata": {},
   "outputs": [
    {
     "data": {
      "text/plain": [
       "10000-element Vector{Float64}:\n",
       " 0.01\n",
       " 0.01\n",
       " 0.01\n",
       " 0.01\n",
       " 0.01\n",
       " 0.01\n",
       " 0.01\n",
       " 0.01\n",
       " 0.01\n",
       " 0.01\n",
       " 0.01\n",
       " 0.01\n",
       " 0.01\n",
       " ⋮\n",
       " 0.01\n",
       " 0.01\n",
       " 0.01\n",
       " 0.01\n",
       " 0.01\n",
       " 0.01\n",
       " 0.01\n",
       " 0.01\n",
       " 0.01\n",
       " 0.01\n",
       " 0.01\n",
       " 0.01"
      ]
     },
     "execution_count": 85,
     "metadata": {},
     "output_type": "execute_result"
    }
   ],
   "source": [
    "v = ones(10000);\n",
    "v = normalize(v)"
   ]
  },
  {
   "cell_type": "code",
   "execution_count": 86,
   "id": "f0bff88a",
   "metadata": {},
   "outputs": [
    {
     "data": {
      "text/plain": [
       "([9.999999999998701e-5;;], [-0.000921034037197621;;])"
      ]
     },
     "execution_count": 86,
     "metadata": {},
     "output_type": "execute_result"
    }
   ],
   "source": [
    "gipr, _ = compute_gipr_2(p, v)"
   ]
  },
  {
   "cell_type": "code",
   "execution_count": 87,
   "id": "535e1fd5",
   "metadata": {},
   "outputs": [
    {
     "data": {
      "text/plain": [
       "1×1 Matrix{Float64}:\n",
       " 9.999999999998701e-5"
      ]
     },
     "execution_count": 87,
     "metadata": {},
     "output_type": "execute_result"
    }
   ],
   "source": [
    "gipr"
   ]
  }
 ],
 "metadata": {
  "kernelspec": {
   "display_name": "Julia 1.7.2",
   "language": "julia",
   "name": "julia-1.7"
  },
  "language_info": {
   "file_extension": ".jl",
   "mimetype": "application/julia",
   "name": "julia",
   "version": "1.7.2"
  }
 },
 "nbformat": 4,
 "nbformat_minor": 5
}
