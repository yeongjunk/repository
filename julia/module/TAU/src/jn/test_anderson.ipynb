{
 "cells": [
  {
   "cell_type": "code",
   "execution_count": null,
   "id": "a79368dd",
   "metadata": {},
   "outputs": [],
   "source": [
    "using TAU\n",
    "using Lattices\n",
    "using LatticeModels\n",
    "using Random\n",
    "using LinearAlgebra"
   ]
  },
  {
   "cell_type": "code",
   "execution_count": 2,
   "id": "9bd27701",
   "metadata": {},
   "outputs": [
    {
     "name": "stdout",
     "output_type": "stream",
     "text": [
      "search: \u001b[0m\u001b[1mc\u001b[22m\u001b[0m\u001b[1mo\u001b[22m\u001b[0m\u001b[1mm\u001b[22m\u001b[0m\u001b[1mp\u001b[22m\u001b[0m\u001b[1mu\u001b[22m\u001b[0m\u001b[1mt\u001b[22m\u001b[0m\u001b[1me\u001b[22m\u001b[0m\u001b[1m_\u001b[22m\u001b[0m\u001b[1mt\u001b[22m\u001b[0m\u001b[1ma\u001b[22m\u001b[0m\u001b[1mu\u001b[22m\n",
      "\n"
     ]
    },
    {
     "data": {
      "text/latex": [
       "compute\\emph{tau(f, p, E}c, E\\emph{del, R, nev, L, l; c = 1., seed = 1234)  Create Hamiltonian H = f(p; rng=GLOBAL}RNG) and compute nev number of eigenstates at the target energy E\\emph{c over the energy window E}del.  R is number of realizations. The box-counted PN is computed and averaged over realizations and the given energy window.  From this, tau is computed Optionally the parameter c is specified if an error occurs\n",
       "\n"
      ],
      "text/markdown": [
       "compute*tau(f, p, E*c, E*del, R, nev, L, l; c = 1., seed = 1234)  Create Hamiltonian H = f(p; rng=GLOBAL*RNG) and compute nev number of eigenstates at the target energy E*c over the energy window E*del.  R is number of realizations. The box-counted PN is computed and averaged over realizations and the given energy window.  From this, tau is computed Optionally the parameter c is specified if an error occurs\n"
      ],
      "text/plain": [
       "  compute\u001b[4mtau(f, p, E\u001b[24mc, E\u001b[4mdel, R, nev, L, l; c = 1., seed = 1234) Create\n",
       "  Hamiltonian H = f(p; rng=GLOBAL\u001b[24mRNG) and compute nev number of eigenstates at\n",
       "  the target energy E\u001b[4mc over the energy window E\u001b[24mdel. R is number of\n",
       "  realizations. The box-counted PN is computed and averaged over realizations\n",
       "  and the given energy window. From this, tau is computed Optionally the\n",
       "  parameter c is specified if an error occurs"
      ]
     },
     "execution_count": 2,
     "metadata": {},
     "output_type": "execute_result"
    }
   ],
   "source": [
    "?compute_tau"
   ]
  },
  {
   "cell_type": "code",
   "execution_count": 3,
   "id": "e7bc5fd9",
   "metadata": {},
   "outputs": [
    {
     "name": "stdout",
     "output_type": "stream",
     "text": [
      "search: \u001b[0m\u001b[1ms\u001b[22m\u001b[0m\u001b[1mq\u001b[22m\u001b[0m\u001b[1mu\u001b[22m\u001b[0m\u001b[1ma\u001b[22m\u001b[0m\u001b[1mr\u001b[22m\u001b[0m\u001b[1me\u001b[22m\n",
      "\n"
     ]
    },
    {
     "data": {
      "text/latex": [
       "No documentation found.\n",
       "\n",
       "\\texttt{LatticeModels.square} is a \\texttt{Function}.\n",
       "\n",
       "\\begin{verbatim}\n",
       "# 1 method for generic function \"square\":\n",
       "[1] square(; M, N, t) in LatticeModels at /Users/kimyeongjun/codes/project/julia/module/LatticeModels/src/simple.jl:21\n",
       "\\end{verbatim}\n"
      ],
      "text/markdown": [
       "No documentation found.\n",
       "\n",
       "`LatticeModels.square` is a `Function`.\n",
       "\n",
       "```\n",
       "# 1 method for generic function \"square\":\n",
       "[1] square(; M, N, t) in LatticeModels at /Users/kimyeongjun/codes/project/julia/module/LatticeModels/src/simple.jl:21\n",
       "```\n"
      ],
      "text/plain": [
       "  No documentation found.\n",
       "\n",
       "  \u001b[36mLatticeModels.square\u001b[39m is a \u001b[36mFunction\u001b[39m.\n",
       "\n",
       "\u001b[36m  # 1 method for generic function \"square\":\u001b[39m\n",
       "\u001b[36m  [1] square(; M, N, t) in LatticeModels at /Users/kimyeongjun/codes/project/julia/module/LatticeModels/src/simple.jl:21\u001b[39m"
      ]
     },
     "execution_count": 3,
     "metadata": {},
     "output_type": "execute_result"
    }
   ],
   "source": [
    "?square"
   ]
  },
  {
   "cell_type": "code",
   "execution_count": 44,
   "id": "7a63ce75",
   "metadata": {},
   "outputs": [
    {
     "data": {
      "text/plain": [
       "Lattice2D{Int64}(100, 100, 1)"
      ]
     },
     "execution_count": 44,
     "metadata": {},
     "output_type": "execute_result"
    }
   ],
   "source": [
    "R = 50\n",
    "nev = 10\n",
    "L = 100\n",
    "l = 10\n",
    "E_c = 0.\n",
    "E_del = 0.1\n",
    "seed = 1234\n",
    "ltc = Lattice2D(L, L, 1)"
   ]
  },
  {
   "cell_type": "code",
   "execution_count": 45,
   "id": "0a826c23",
   "metadata": {},
   "outputs": [
    {
     "data": {
      "text/plain": [
       "SquareParams(100, 100, 10.0)"
      ]
     },
     "execution_count": 45,
     "metadata": {},
     "output_type": "execute_result"
    }
   ],
   "source": [
    "struct SquareParams\n",
    "    M::Integer\n",
    "    N::Integer\n",
    "    W::Float64\n",
    "end\n",
    "p = SquareParams(L, L, 10.)"
   ]
  },
  {
   "cell_type": "code",
   "execution_count": 46,
   "id": "edb218ab",
   "metadata": {},
   "outputs": [
    {
     "data": {
      "text/plain": [
       "g (generic function with 1 method)"
      ]
     },
     "execution_count": 46,
     "metadata": {},
     "output_type": "execute_result"
    }
   ],
   "source": [
    "function g(p::SquareParams; rng = Random.GLOBAL_RNG)\n",
    "    H = square(M = p.M, N = p.N) + Diagonal(p.W*(rand(p.M*p.N) .- 0.5))\n",
    "end"
   ]
  },
  {
   "cell_type": "code",
   "execution_count": 47,
   "id": "3a27ae70",
   "metadata": {},
   "outputs": [
    {
     "name": "stdout",
     "output_type": "stream",
     "text": [
      "  6.053672 seconds (216.80 k allocations: 3.005 GiB, 0.73% gc time, 0.69% compilation time)\n"
     ]
    },
    {
     "data": {
      "text/plain": [
       "(-0.00013195916116575117, -0.3326629891076568)"
      ]
     },
     "execution_count": 47,
     "metadata": {},
     "output_type": "execute_result"
    }
   ],
   "source": [
    "@time compute_tau(g, p, E_c, E_del, R, nev, ltc, L, l, seed = 1412)"
   ]
  },
  {
   "cell_type": "code",
   "execution_count": 40,
   "id": "ed01ce30",
   "metadata": {},
   "outputs": [
    {
     "data": {
      "text/plain": [
       "x (generic function with 1 method)"
      ]
     },
     "execution_count": 40,
     "metadata": {},
     "output_type": "execute_result"
    }
   ],
   "source": [
    "function x()\n",
    "    println(\"sex\")\n",
    "end"
   ]
  },
  {
   "cell_type": "code",
   "execution_count": null,
   "id": "261c4d5a",
   "metadata": {},
   "outputs": [],
   "source": [
    "function y(x::Function)\n",
    "    x()\n",
    "end"
   ]
  },
  {
   "cell_type": "code",
   "execution_count": null,
   "id": "1d0f09e9",
   "metadata": {},
   "outputs": [],
   "source": [
    "y(x)"
   ]
  }
 ],
 "metadata": {
  "kernelspec": {
   "display_name": "Julia 1.7.2",
   "language": "julia",
   "name": "julia-1.7"
  },
  "language_info": {
   "file_extension": ".jl",
   "mimetype": "application/julia",
   "name": "julia",
   "version": "1.7.2"
  }
 },
 "nbformat": 4,
 "nbformat_minor": 5
}
