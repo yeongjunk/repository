{
 "cells": [
  {
   "cell_type": "code",
   "execution_count": 1,
   "id": "4e1edac1",
   "metadata": {},
   "outputs": [],
   "source": [
    "using MFAScan.EnsembleTest\n",
    "using Lattices, LatticeModels\n",
    "using Random, Distributions\n",
    "using LinearAlgebra, SparseArrays\n",
    "using ProfileView\n",
    "using MFA.Ensemble"
   ]
  },
  {
   "cell_type": "code",
   "execution_count": 2,
   "id": "1c1bbc7f",
   "metadata": {},
   "outputs": [],
   "source": [
    "struct CubicParams\n",
    "    L::Int64\n",
    "    W::Float64\n",
    "end"
   ]
  },
  {
   "cell_type": "code",
   "execution_count": 3,
   "id": "31bad540",
   "metadata": {},
   "outputs": [
    {
     "data": {
      "text/plain": [
       "f (generic function with 1 method)"
      ]
     },
     "execution_count": 3,
     "metadata": {},
     "output_type": "execute_result"
    }
   ],
   "source": [
    "function f(p::CubicParams; rng = Random.GLOBAL_RNG)\n",
    "    H = cubic(L = p.L, M = p.L, N = p.L) .+ Diagonal(rand(rng, Uniform(-p.W, p.W), p.L^3))\n",
    "end"
   ]
  },
  {
   "cell_type": "code",
   "execution_count": 12,
   "id": "d7f05889",
   "metadata": {},
   "outputs": [],
   "source": [
    "L = 15\n",
    "W = 1.0\n",
    "E_c = 0.0\n",
    "E_del = 0.1\n",
    "l = [1, 5]\n",
    "q = collect(0.1:0.2:3);\n",
    "ltc = Lattice3D(L, L, L, 1);\n",
    "R = 10\n",
    "nev = 10\n",
    "p = CubicParams(L, W)\n",
    "p_mfa = MFAParameters(ltc, l, q)\n",
    "prepare_MFA!(p_mfa)"
   ]
  },
  {
   "cell_type": "code",
   "execution_count": null,
   "id": "4d07d272",
   "metadata": {},
   "outputs": [],
   "source": [
    "@profview scan_ταf(f, p, E_c, E_del, p_mfa, R=R, nev=nev);"
   ]
  },
  {
   "cell_type": "code",
   "execution_count": null,
   "id": "ac951415",
   "metadata": {},
   "outputs": [],
   "source": [
    "H = f(p)"
   ]
  },
  {
   "cell_type": "code",
   "execution_count": 11,
   "id": "79ac06dd",
   "metadata": {},
   "outputs": [
    {
     "data": {
      "text/plain": [
       "MFAParameters{Lattice3D{Int64}}(Lattice3D{Int64}(15, 15, 15, 1), [1, 5], [0.1, 0.3, 0.5, 0.7, 0.9, 1.1, 1.3, 1.5, 1.7, 1.9, 2.1, 2.3, 2.5, 2.7, 2.9], Matrix{Int64}[])"
      ]
     },
     "execution_count": 11,
     "metadata": {},
     "output_type": "execute_result"
    }
   ],
   "source": [
    "p_mfa"
   ]
  }
 ],
 "metadata": {
  "kernelspec": {
   "display_name": "Julia 1.7.2",
   "language": "julia",
   "name": "julia-1.7"
  },
  "language_info": {
   "file_extension": ".jl",
   "mimetype": "application/julia",
   "name": "julia",
   "version": "1.7.2"
  }
 },
 "nbformat": 4,
 "nbformat_minor": 5
}
