{
 "cells": [
  {
   "cell_type": "code",
   "execution_count": 88,
   "id": "4e1edac1",
   "metadata": {},
   "outputs": [],
   "source": [
    "using Revise\n",
    "using MFAScan.EnsembleTest\n",
    "using Lattices, LatticeModels\n",
    "using Random, Distributions\n",
    "using LinearAlgebra, SparseArrays\n",
    "using MFA.Ensemble\n",
    "using Plots"
   ]
  },
  {
   "cell_type": "code",
   "execution_count": 78,
   "id": "1c1bbc7f",
   "metadata": {},
   "outputs": [],
   "source": [
    "struct CubicParams\n",
    "    L::Int64\n",
    "    W::Float64\n",
    "end"
   ]
  },
  {
   "cell_type": "code",
   "execution_count": 79,
   "id": "31bad540",
   "metadata": {},
   "outputs": [
    {
     "data": {
      "text/plain": [
       "f (generic function with 1 method)"
      ]
     },
     "execution_count": 79,
     "metadata": {},
     "output_type": "execute_result"
    }
   ],
   "source": [
    "function f(p::CubicParams;rng = Random.GLOBAL_RNG)\n",
    "    H = cubic(L = p.L, M = p.L, N = p.L) .+ Diagonal(rand(rng, Uniform(-p.W, p.W), p.L^3))\n",
    "end"
   ]
  },
  {
   "cell_type": "code",
   "execution_count": 85,
   "id": "d7f05889",
   "metadata": {},
   "outputs": [],
   "source": [
    "L = 10\n",
    "W = 3.0\n",
    "E_c = 0.\n",
    "E_del = 0.1\n",
    "l = [1, 5]\n",
    "q = collect(0.1:0.2:3);\n",
    "ltc = Lattice3D(L, L, L, 1);\n",
    "R = 10\n",
    "nev = 10\n",
    "p = CubicParams(L, W)\n",
    "p_mfa = MFAParameters(ltc, l, q)\n",
    "prepare_MFA!(p_mfa)"
   ]
  },
  {
   "cell_type": "code",
   "execution_count": 86,
   "id": "4d07d272",
   "metadata": {},
   "outputs": [
    {
     "name": "stdout",
     "output_type": "stream",
     "text": [
      "  0.165417 seconds (17.10 k allocations: 78.310 MiB)\n"
     ]
    }
   ],
   "source": [
    "@time E, _, _, τ, _, _ = scan_ταf(f, p, E_c, E_del, p_mfa, c=1., R=R, nev=nev, krylovdim = 2nev+1);"
   ]
  },
  {
   "cell_type": "code",
   "execution_count": 72,
   "id": "ac951415",
   "metadata": {},
   "outputs": [
    {
     "name": "stdout",
     "output_type": "stream",
     "text": [
      "  0.013852 seconds (668 allocations: 3.116 MiB, 27.25% compilation time)\n"
     ]
    }
   ],
   "source": [
    "H = f(p)\n",
    "@time shift_invert_linear_map(H, 0.);"
   ]
  },
  {
   "cell_type": "code",
   "execution_count": 90,
   "id": "79ac06dd",
   "metadata": {},
   "outputs": [
    {
     "data": {
      "image/svg+xml": [
       "<?xml version=\"1.0\" encoding=\"utf-8\"?>\n",
       "<svg xmlns=\"http://www.w3.org/2000/svg\" xmlns:xlink=\"http://www.w3.org/1999/xlink\" width=\"600\" height=\"400\" viewBox=\"0 0 2400 1600\">\n",
       "<defs>\n",
       "  <clipPath id=\"clip980\">\n",
       "    <rect x=\"0\" y=\"0\" width=\"2400\" height=\"1600\"/>\n",
       "  </clipPath>\n",
       "</defs>\n",
       "<path clip-path=\"url(#clip980)\" d=\"\n",
       "M0 1600 L2400 1600 L2400 0 L0 0  Z\n",
       "  \" fill=\"#ffffff\" fill-rule=\"evenodd\" fill-opacity=\"1\"/>\n",
       "<defs>\n",
       "  <clipPath id=\"clip981\">\n",
       "    <rect x=\"480\" y=\"0\" width=\"1681\" height=\"1600\"/>\n",
       "  </clipPath>\n",
       "</defs>\n",
       "<path clip-path=\"url(#clip980)\" d=\"\n",
       "M147.108 1486.45 L2352.76 1486.45 L2352.76 47.2441 L147.108 47.2441  Z\n",
       "  \" fill=\"#ffffff\" fill-rule=\"evenodd\" fill-opacity=\"1\"/>\n",
       "<defs>\n",
       "  <clipPath id=\"clip982\">\n",
       "    <rect x=\"147\" y=\"47\" width=\"2207\" height=\"1440\"/>\n",
       "  </clipPath>\n",
       "</defs>\n",
       "<polyline clip-path=\"url(#clip982)\" style=\"stroke:#000000; stroke-linecap:butt; stroke-linejoin:round; stroke-width:2; stroke-opacity:0.1; fill:none\" points=\"\n",
       "  506.789,1486.45 506.789,47.2441 \n",
       "  \"/>\n",
       "<polyline clip-path=\"url(#clip982)\" style=\"stroke:#000000; stroke-linecap:butt; stroke-linejoin:round; stroke-width:2; stroke-opacity:0.1; fill:none\" points=\"\n",
       "  878.36,1486.45 878.36,47.2441 \n",
       "  \"/>\n",
       "<polyline clip-path=\"url(#clip982)\" style=\"stroke:#000000; stroke-linecap:butt; stroke-linejoin:round; stroke-width:2; stroke-opacity:0.1; fill:none\" points=\"\n",
       "  1249.93,1486.45 1249.93,47.2441 \n",
       "  \"/>\n",
       "<polyline clip-path=\"url(#clip982)\" style=\"stroke:#000000; stroke-linecap:butt; stroke-linejoin:round; stroke-width:2; stroke-opacity:0.1; fill:none\" points=\"\n",
       "  1621.5,1486.45 1621.5,47.2441 \n",
       "  \"/>\n",
       "<polyline clip-path=\"url(#clip982)\" style=\"stroke:#000000; stroke-linecap:butt; stroke-linejoin:round; stroke-width:2; stroke-opacity:0.1; fill:none\" points=\"\n",
       "  1993.07,1486.45 1993.07,47.2441 \n",
       "  \"/>\n",
       "<polyline clip-path=\"url(#clip980)\" style=\"stroke:#000000; stroke-linecap:butt; stroke-linejoin:round; stroke-width:4; stroke-opacity:1; fill:none\" points=\"\n",
       "  147.108,1486.45 2352.76,1486.45 \n",
       "  \"/>\n",
       "<polyline clip-path=\"url(#clip980)\" style=\"stroke:#000000; stroke-linecap:butt; stroke-linejoin:round; stroke-width:4; stroke-opacity:1; fill:none\" points=\"\n",
       "  506.789,1486.45 506.789,1467.55 \n",
       "  \"/>\n",
       "<polyline clip-path=\"url(#clip980)\" style=\"stroke:#000000; stroke-linecap:butt; stroke-linejoin:round; stroke-width:4; stroke-opacity:1; fill:none\" points=\"\n",
       "  878.36,1486.45 878.36,1467.55 \n",
       "  \"/>\n",
       "<polyline clip-path=\"url(#clip980)\" style=\"stroke:#000000; stroke-linecap:butt; stroke-linejoin:round; stroke-width:4; stroke-opacity:1; fill:none\" points=\"\n",
       "  1249.93,1486.45 1249.93,1467.55 \n",
       "  \"/>\n",
       "<polyline clip-path=\"url(#clip980)\" style=\"stroke:#000000; stroke-linecap:butt; stroke-linejoin:round; stroke-width:4; stroke-opacity:1; fill:none\" points=\"\n",
       "  1621.5,1486.45 1621.5,1467.55 \n",
       "  \"/>\n",
       "<polyline clip-path=\"url(#clip980)\" style=\"stroke:#000000; stroke-linecap:butt; stroke-linejoin:round; stroke-width:4; stroke-opacity:1; fill:none\" points=\"\n",
       "  1993.07,1486.45 1993.07,1467.55 \n",
       "  \"/>\n",
       "<path clip-path=\"url(#clip980)\" d=\"M484.671 1517.37 Q481.06 1517.37 479.231 1520.93 Q477.425 1524.47 477.425 1531.6 Q477.425 1538.71 479.231 1542.27 Q481.06 1545.82 484.671 1545.82 Q488.305 1545.82 490.111 1542.27 Q491.939 1538.71 491.939 1531.6 Q491.939 1524.47 490.111 1520.93 Q488.305 1517.37 484.671 1517.37 M484.671 1513.66 Q490.481 1513.66 493.537 1518.27 Q496.615 1522.85 496.615 1531.6 Q496.615 1540.33 493.537 1544.94 Q490.481 1549.52 484.671 1549.52 Q478.861 1549.52 475.782 1544.94 Q472.726 1540.33 472.726 1531.6 Q472.726 1522.85 475.782 1518.27 Q478.861 1513.66 484.671 1513.66 Z\" fill=\"#000000\" fill-rule=\"evenodd\" fill-opacity=\"1\" /><path clip-path=\"url(#clip980)\" d=\"M504.833 1542.97 L509.717 1542.97 L509.717 1548.85 L504.833 1548.85 L504.833 1542.97 Z\" fill=\"#000000\" fill-rule=\"evenodd\" fill-opacity=\"1\" /><path clip-path=\"url(#clip980)\" d=\"M519.948 1514.29 L538.305 1514.29 L538.305 1518.22 L524.231 1518.22 L524.231 1526.7 Q525.249 1526.35 526.268 1526.19 Q527.286 1526 528.305 1526 Q534.092 1526 537.471 1529.17 Q540.851 1532.34 540.851 1537.76 Q540.851 1543.34 537.379 1546.44 Q533.907 1549.52 527.587 1549.52 Q525.411 1549.52 523.143 1549.15 Q520.897 1548.78 518.49 1548.04 L518.49 1543.34 Q520.573 1544.47 522.796 1545.03 Q525.018 1545.58 527.495 1545.58 Q531.499 1545.58 533.837 1543.48 Q536.175 1541.37 536.175 1537.76 Q536.175 1534.15 533.837 1532.04 Q531.499 1529.94 527.495 1529.94 Q525.62 1529.94 523.745 1530.35 Q521.893 1530.77 519.948 1531.65 L519.948 1514.29 Z\" fill=\"#000000\" fill-rule=\"evenodd\" fill-opacity=\"1\" /><path clip-path=\"url(#clip980)\" d=\"M845.513 1544.91 L853.152 1544.91 L853.152 1518.55 L844.842 1520.21 L844.842 1515.95 L853.106 1514.29 L857.782 1514.29 L857.782 1544.91 L865.42 1544.91 L865.42 1548.85 L845.513 1548.85 L845.513 1544.91 Z\" fill=\"#000000\" fill-rule=\"evenodd\" fill-opacity=\"1\" /><path clip-path=\"url(#clip980)\" d=\"M874.865 1542.97 L879.749 1542.97 L879.749 1548.85 L874.865 1548.85 L874.865 1542.97 Z\" fill=\"#000000\" fill-rule=\"evenodd\" fill-opacity=\"1\" /><path clip-path=\"url(#clip980)\" d=\"M899.934 1517.37 Q896.323 1517.37 894.494 1520.93 Q892.689 1524.47 892.689 1531.6 Q892.689 1538.71 894.494 1542.27 Q896.323 1545.82 899.934 1545.82 Q903.568 1545.82 905.374 1542.27 Q907.203 1538.71 907.203 1531.6 Q907.203 1524.47 905.374 1520.93 Q903.568 1517.37 899.934 1517.37 M899.934 1513.66 Q905.744 1513.66 908.8 1518.27 Q911.879 1522.85 911.879 1531.6 Q911.879 1540.33 908.8 1544.94 Q905.744 1549.52 899.934 1549.52 Q894.124 1549.52 891.045 1544.94 Q887.99 1540.33 887.99 1531.6 Q887.99 1522.85 891.045 1518.27 Q894.124 1513.66 899.934 1513.66 Z\" fill=\"#000000\" fill-rule=\"evenodd\" fill-opacity=\"1\" /><path clip-path=\"url(#clip980)\" d=\"M1217.58 1544.91 L1225.22 1544.91 L1225.22 1518.55 L1216.91 1520.21 L1216.91 1515.95 L1225.17 1514.29 L1229.85 1514.29 L1229.85 1544.91 L1237.49 1544.91 L1237.49 1548.85 L1217.58 1548.85 L1217.58 1544.91 Z\" fill=\"#000000\" fill-rule=\"evenodd\" fill-opacity=\"1\" /><path clip-path=\"url(#clip980)\" d=\"M1246.93 1542.97 L1251.82 1542.97 L1251.82 1548.85 L1246.93 1548.85 L1246.93 1542.97 Z\" fill=\"#000000\" fill-rule=\"evenodd\" fill-opacity=\"1\" /><path clip-path=\"url(#clip980)\" d=\"M1262.05 1514.29 L1280.41 1514.29 L1280.41 1518.22 L1266.33 1518.22 L1266.33 1526.7 Q1267.35 1526.35 1268.37 1526.19 Q1269.39 1526 1270.41 1526 Q1276.19 1526 1279.57 1529.17 Q1282.95 1532.34 1282.95 1537.76 Q1282.95 1543.34 1279.48 1546.44 Q1276.01 1549.52 1269.69 1549.52 Q1267.51 1549.52 1265.24 1549.15 Q1263 1548.78 1260.59 1548.04 L1260.59 1543.34 Q1262.67 1544.47 1264.9 1545.03 Q1267.12 1545.58 1269.6 1545.58 Q1273.6 1545.58 1275.94 1543.48 Q1278.28 1541.37 1278.28 1537.76 Q1278.28 1534.15 1275.94 1532.04 Q1273.6 1529.94 1269.6 1529.94 Q1267.72 1529.94 1265.85 1530.35 Q1263.99 1530.77 1262.05 1531.65 L1262.05 1514.29 Z\" fill=\"#000000\" fill-rule=\"evenodd\" fill-opacity=\"1\" /><path clip-path=\"url(#clip980)\" d=\"M1592.74 1544.91 L1609.06 1544.91 L1609.06 1548.85 L1587.12 1548.85 L1587.12 1544.91 Q1589.78 1542.16 1594.36 1537.53 Q1598.97 1532.88 1600.15 1531.53 Q1602.39 1529.01 1603.27 1527.27 Q1604.18 1525.51 1604.18 1523.82 Q1604.18 1521.07 1602.23 1519.33 Q1600.31 1517.6 1597.21 1517.6 Q1595.01 1517.6 1592.56 1518.36 Q1590.13 1519.13 1587.35 1520.68 L1587.35 1515.95 Q1590.17 1514.82 1592.63 1514.24 Q1595.08 1513.66 1597.12 1513.66 Q1602.49 1513.66 1605.68 1516.35 Q1608.88 1519.03 1608.88 1523.52 Q1608.88 1525.65 1608.07 1527.57 Q1607.28 1529.47 1605.17 1532.07 Q1604.59 1532.74 1601.49 1535.95 Q1598.39 1539.15 1592.74 1544.91 Z\" fill=\"#000000\" fill-rule=\"evenodd\" fill-opacity=\"1\" /><path clip-path=\"url(#clip980)\" d=\"M1618.88 1542.97 L1623.76 1542.97 L1623.76 1548.85 L1618.88 1548.85 L1618.88 1542.97 Z\" fill=\"#000000\" fill-rule=\"evenodd\" fill-opacity=\"1\" /><path clip-path=\"url(#clip980)\" d=\"M1643.95 1517.37 Q1640.33 1517.37 1638.51 1520.93 Q1636.7 1524.47 1636.7 1531.6 Q1636.7 1538.71 1638.51 1542.27 Q1640.33 1545.82 1643.95 1545.82 Q1647.58 1545.82 1649.39 1542.27 Q1651.21 1538.71 1651.21 1531.6 Q1651.21 1524.47 1649.39 1520.93 Q1647.58 1517.37 1643.95 1517.37 M1643.95 1513.66 Q1649.76 1513.66 1652.81 1518.27 Q1655.89 1522.85 1655.89 1531.6 Q1655.89 1540.33 1652.81 1544.94 Q1649.76 1549.52 1643.95 1549.52 Q1638.14 1549.52 1635.06 1544.94 Q1632 1540.33 1632 1531.6 Q1632 1522.85 1635.06 1518.27 Q1638.14 1513.66 1643.95 1513.66 Z\" fill=\"#000000\" fill-rule=\"evenodd\" fill-opacity=\"1\" /><path clip-path=\"url(#clip980)\" d=\"M1964.81 1544.91 L1981.13 1544.91 L1981.13 1548.85 L1959.19 1548.85 L1959.19 1544.91 Q1961.85 1542.16 1966.43 1537.53 Q1971.04 1532.88 1972.22 1531.53 Q1974.46 1529.01 1975.34 1527.27 Q1976.25 1525.51 1976.25 1523.82 Q1976.25 1521.07 1974.3 1519.33 Q1972.38 1517.6 1969.28 1517.6 Q1967.08 1517.6 1964.63 1518.36 Q1962.2 1519.13 1959.42 1520.68 L1959.42 1515.95 Q1962.24 1514.82 1964.7 1514.24 Q1967.15 1513.66 1969.19 1513.66 Q1974.56 1513.66 1977.75 1516.35 Q1980.95 1519.03 1980.95 1523.52 Q1980.95 1525.65 1980.13 1527.57 Q1979.35 1529.47 1977.24 1532.07 Q1976.66 1532.74 1973.56 1535.95 Q1970.46 1539.15 1964.81 1544.91 Z\" fill=\"#000000\" fill-rule=\"evenodd\" fill-opacity=\"1\" /><path clip-path=\"url(#clip980)\" d=\"M1990.95 1542.97 L1995.83 1542.97 L1995.83 1548.85 L1990.95 1548.85 L1990.95 1542.97 Z\" fill=\"#000000\" fill-rule=\"evenodd\" fill-opacity=\"1\" /><path clip-path=\"url(#clip980)\" d=\"M2006.06 1514.29 L2024.42 1514.29 L2024.42 1518.22 L2010.34 1518.22 L2010.34 1526.7 Q2011.36 1526.35 2012.38 1526.19 Q2013.4 1526 2014.42 1526 Q2020.2 1526 2023.58 1529.17 Q2026.96 1532.34 2026.96 1537.76 Q2026.96 1543.34 2023.49 1546.44 Q2020.02 1549.52 2013.7 1549.52 Q2011.52 1549.52 2009.26 1549.15 Q2007.01 1548.78 2004.6 1548.04 L2004.6 1543.34 Q2006.69 1544.47 2008.91 1545.03 Q2011.13 1545.58 2013.61 1545.58 Q2017.61 1545.58 2019.95 1543.48 Q2022.29 1541.37 2022.29 1537.76 Q2022.29 1534.15 2019.95 1532.04 Q2017.61 1529.94 2013.61 1529.94 Q2011.73 1529.94 2009.86 1530.35 Q2008.01 1530.77 2006.06 1531.65 L2006.06 1514.29 Z\" fill=\"#000000\" fill-rule=\"evenodd\" fill-opacity=\"1\" /><polyline clip-path=\"url(#clip982)\" style=\"stroke:#000000; stroke-linecap:butt; stroke-linejoin:round; stroke-width:2; stroke-opacity:0.1; fill:none\" points=\"\n",
       "  147.108,1330.04 2352.76,1330.04 \n",
       "  \"/>\n",
       "<polyline clip-path=\"url(#clip982)\" style=\"stroke:#000000; stroke-linecap:butt; stroke-linejoin:round; stroke-width:2; stroke-opacity:0.1; fill:none\" points=\"\n",
       "  147.108,997.741 2352.76,997.741 \n",
       "  \"/>\n",
       "<polyline clip-path=\"url(#clip982)\" style=\"stroke:#000000; stroke-linecap:butt; stroke-linejoin:round; stroke-width:2; stroke-opacity:0.1; fill:none\" points=\"\n",
       "  147.108,665.442 2352.76,665.442 \n",
       "  \"/>\n",
       "<polyline clip-path=\"url(#clip982)\" style=\"stroke:#000000; stroke-linecap:butt; stroke-linejoin:round; stroke-width:2; stroke-opacity:0.1; fill:none\" points=\"\n",
       "  147.108,333.144 2352.76,333.144 \n",
       "  \"/>\n",
       "<polyline clip-path=\"url(#clip980)\" style=\"stroke:#000000; stroke-linecap:butt; stroke-linejoin:round; stroke-width:4; stroke-opacity:1; fill:none\" points=\"\n",
       "  147.108,1486.45 147.108,47.2441 \n",
       "  \"/>\n",
       "<polyline clip-path=\"url(#clip980)\" style=\"stroke:#000000; stroke-linecap:butt; stroke-linejoin:round; stroke-width:4; stroke-opacity:1; fill:none\" points=\"\n",
       "  147.108,1330.04 166.005,1330.04 \n",
       "  \"/>\n",
       "<polyline clip-path=\"url(#clip980)\" style=\"stroke:#000000; stroke-linecap:butt; stroke-linejoin:round; stroke-width:4; stroke-opacity:1; fill:none\" points=\"\n",
       "  147.108,997.741 166.005,997.741 \n",
       "  \"/>\n",
       "<polyline clip-path=\"url(#clip980)\" style=\"stroke:#000000; stroke-linecap:butt; stroke-linejoin:round; stroke-width:4; stroke-opacity:1; fill:none\" points=\"\n",
       "  147.108,665.442 166.005,665.442 \n",
       "  \"/>\n",
       "<polyline clip-path=\"url(#clip980)\" style=\"stroke:#000000; stroke-linecap:butt; stroke-linejoin:round; stroke-width:4; stroke-opacity:1; fill:none\" points=\"\n",
       "  147.108,333.144 166.005,333.144 \n",
       "  \"/>\n",
       "<path clip-path=\"url(#clip980)\" d=\"M50.9921 1330.49 L80.6679 1330.49 L80.6679 1334.43 L50.9921 1334.43 L50.9921 1330.49 Z\" fill=\"#000000\" fill-rule=\"evenodd\" fill-opacity=\"1\" /><path clip-path=\"url(#clip980)\" d=\"M94.7882 1343.38 L111.108 1343.38 L111.108 1347.32 L89.1632 1347.32 L89.1632 1343.38 Q91.8252 1340.63 96.4085 1336 Q101.015 1331.35 102.196 1330 Q104.441 1327.48 105.321 1325.75 Q106.223 1323.99 106.223 1322.3 Q106.223 1319.54 104.279 1317.81 Q102.358 1316.07 99.2558 1316.07 Q97.0567 1316.07 94.603 1316.83 Q92.1725 1317.6 89.3947 1319.15 L89.3947 1314.43 Q92.2188 1313.29 94.6724 1312.71 Q97.1261 1312.13 99.1632 1312.13 Q104.534 1312.13 107.728 1314.82 Q110.922 1317.5 110.922 1322 Q110.922 1324.12 110.112 1326.05 Q109.325 1327.94 107.219 1330.54 Q106.64 1331.21 103.538 1334.43 Q100.436 1337.62 94.7882 1343.38 Z\" fill=\"#000000\" fill-rule=\"evenodd\" fill-opacity=\"1\" /><path clip-path=\"url(#clip980)\" d=\"M99.1632 983.54 Q95.5521 983.54 93.7234 987.104 Q91.9178 990.646 91.9178 997.776 Q91.9178 1004.88 93.7234 1008.45 Q95.5521 1011.99 99.1632 1011.99 Q102.797 1011.99 104.603 1008.45 Q106.432 1004.88 106.432 997.776 Q106.432 990.646 104.603 987.104 Q102.797 983.54 99.1632 983.54 M99.1632 979.836 Q104.973 979.836 108.029 984.442 Q111.108 989.026 111.108 997.776 Q111.108 1006.5 108.029 1011.11 Q104.973 1015.69 99.1632 1015.69 Q93.353 1015.69 90.2743 1011.11 Q87.2188 1006.5 87.2188 997.776 Q87.2188 989.026 90.2743 984.442 Q93.353 979.836 99.1632 979.836 Z\" fill=\"#000000\" fill-rule=\"evenodd\" fill-opacity=\"1\" /><path clip-path=\"url(#clip980)\" d=\"M94.7882 678.787 L111.108 678.787 L111.108 682.722 L89.1632 682.722 L89.1632 678.787 Q91.8252 676.033 96.4085 671.403 Q101.015 666.75 102.196 665.408 Q104.441 662.885 105.321 661.148 Q106.223 659.389 106.223 657.699 Q106.223 654.945 104.279 653.209 Q102.358 651.473 99.2558 651.473 Q97.0567 651.473 94.603 652.236 Q92.1725 653 89.3947 654.551 L89.3947 649.829 Q92.2188 648.695 94.6724 648.116 Q97.1261 647.537 99.1632 647.537 Q104.534 647.537 107.728 650.223 Q110.922 652.908 110.922 657.398 Q110.922 659.528 110.112 661.449 Q109.325 663.348 107.219 665.94 Q106.64 666.611 103.538 669.829 Q100.436 673.023 94.7882 678.787 Z\" fill=\"#000000\" fill-rule=\"evenodd\" fill-opacity=\"1\" /><path clip-path=\"url(#clip980)\" d=\"M101.524 319.938 L89.7188 338.387 L101.524 338.387 L101.524 319.938 M100.297 315.864 L106.177 315.864 L106.177 338.387 L111.108 338.387 L111.108 342.276 L106.177 342.276 L106.177 350.424 L101.524 350.424 L101.524 342.276 L85.9225 342.276 L85.9225 337.762 L100.297 315.864 Z\" fill=\"#000000\" fill-rule=\"evenodd\" fill-opacity=\"1\" /><polyline clip-path=\"url(#clip982)\" style=\"stroke:#009af9; stroke-linecap:butt; stroke-linejoin:round; stroke-width:4; stroke-opacity:1; fill:none\" points=\"\n",
       "  209.532,1437.87 358.16,1329.24 506.789,1228.22 655.417,1132.8 804.046,1041.81 952.675,954.513 1101.3,870.361 1249.93,788.959 1398.56,709.993 1547.19,633.208 \n",
       "  1695.82,558.391 1844.45,485.357 1993.07,413.946 2141.7,344.016 2290.33,275.438 \n",
       "  \"/>\n",
       "<polyline clip-path=\"url(#clip982)\" style=\"stroke:#e26f46; stroke-linecap:butt; stroke-linejoin:round; stroke-width:4; stroke-opacity:1; fill:none\" points=\"\n",
       "  209.532,1445.72 358.16,1345.19 506.789,1245.23 655.417,1145.82 804.046,1046.96 952.675,948.655 1101.3,850.892 1249.93,753.67 1398.56,656.986 1547.19,560.835 \n",
       "  1695.82,465.215 1844.45,370.122 1993.07,275.554 2141.7,181.506 2290.33,87.9763 \n",
       "  \"/>\n",
       "<path clip-path=\"url(#clip980)\" d=\"\n",
       "M1981.73 250.738 L2279.23 250.738 L2279.23 95.2176 L1981.73 95.2176  Z\n",
       "  \" fill=\"#ffffff\" fill-rule=\"evenodd\" fill-opacity=\"1\"/>\n",
       "<polyline clip-path=\"url(#clip980)\" style=\"stroke:#000000; stroke-linecap:butt; stroke-linejoin:round; stroke-width:4; stroke-opacity:1; fill:none\" points=\"\n",
       "  1981.73,250.738 2279.23,250.738 2279.23,95.2176 1981.73,95.2176 1981.73,250.738 \n",
       "  \"/>\n",
       "<polyline clip-path=\"url(#clip980)\" style=\"stroke:#009af9; stroke-linecap:butt; stroke-linejoin:round; stroke-width:4; stroke-opacity:1; fill:none\" points=\"\n",
       "  2006.24,147.058 2153.28,147.058 \n",
       "  \"/>\n",
       "<path clip-path=\"url(#clip980)\" d=\"M2191.63 166.745 Q2189.83 171.375 2188.11 172.787 Q2186.4 174.199 2183.53 174.199 L2180.13 174.199 L2180.13 170.634 L2182.63 170.634 Q2184.39 170.634 2185.36 169.8 Q2186.33 168.967 2187.51 165.865 L2188.28 163.921 L2177.79 138.412 L2182.3 138.412 L2190.41 158.689 L2198.51 138.412 L2203.02 138.412 L2191.63 166.745 Z\" fill=\"#000000\" fill-rule=\"evenodd\" fill-opacity=\"1\" /><path clip-path=\"url(#clip980)\" d=\"M2210.31 160.402 L2217.95 160.402 L2217.95 134.037 L2209.64 135.703 L2209.64 131.444 L2217.91 129.778 L2222.58 129.778 L2222.58 160.402 L2230.22 160.402 L2230.22 164.338 L2210.31 164.338 L2210.31 160.402 Z\" fill=\"#000000\" fill-rule=\"evenodd\" fill-opacity=\"1\" /><polyline clip-path=\"url(#clip980)\" style=\"stroke:#e26f46; stroke-linecap:butt; stroke-linejoin:round; stroke-width:4; stroke-opacity:1; fill:none\" points=\"\n",
       "  2006.24,198.898 2153.28,198.898 \n",
       "  \"/>\n",
       "<path clip-path=\"url(#clip980)\" d=\"M2191.63 218.585 Q2189.83 223.215 2188.11 224.627 Q2186.4 226.039 2183.53 226.039 L2180.13 226.039 L2180.13 222.474 L2182.63 222.474 Q2184.39 222.474 2185.36 221.64 Q2186.33 220.807 2187.51 217.705 L2188.28 215.761 L2177.79 190.252 L2182.3 190.252 L2190.41 210.529 L2198.51 190.252 L2203.02 190.252 L2191.63 218.585 Z\" fill=\"#000000\" fill-rule=\"evenodd\" fill-opacity=\"1\" /><path clip-path=\"url(#clip980)\" d=\"M2213.53 212.242 L2229.85 212.242 L2229.85 216.178 L2207.91 216.178 L2207.91 212.242 Q2210.57 209.488 2215.15 204.858 Q2219.76 200.205 2220.94 198.863 Q2223.18 196.34 2224.06 194.604 Q2224.97 192.844 2224.97 191.155 Q2224.97 188.4 2223.02 186.664 Q2221.1 184.928 2218 184.928 Q2215.8 184.928 2213.34 185.692 Q2210.91 186.455 2208.14 188.006 L2208.14 183.284 Q2210.96 182.15 2213.41 181.571 Q2215.87 180.993 2217.91 180.993 Q2223.28 180.993 2226.47 183.678 Q2229.66 186.363 2229.66 190.854 Q2229.66 192.983 2228.85 194.905 Q2228.07 196.803 2225.96 199.395 Q2225.38 200.067 2222.28 203.284 Q2219.18 206.479 2213.53 212.242 Z\" fill=\"#000000\" fill-rule=\"evenodd\" fill-opacity=\"1\" /></svg>\n"
      ]
     },
     "execution_count": 90,
     "metadata": {},
     "output_type": "execute_result"
    }
   ],
   "source": [
    "plot(q, τ)"
   ]
  },
  {
   "cell_type": "code",
   "execution_count": 54,
   "id": "98a4dd81",
   "metadata": {},
   "outputs": [],
   "source": [
    "a = [rand(10, 10) for i in 1:10];"
   ]
  }
 ],
 "metadata": {
  "kernelspec": {
   "display_name": "Julia 1.8.0",
   "language": "julia",
   "name": "julia-1.8"
  },
  "language_info": {
   "file_extension": ".jl",
   "mimetype": "application/julia",
   "name": "julia",
   "version": "1.8.0"
  }
 },
 "nbformat": 4,
 "nbformat_minor": 5
}
