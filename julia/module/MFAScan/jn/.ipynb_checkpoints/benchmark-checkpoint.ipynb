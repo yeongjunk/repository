{
 "cells": [
  {
   "cell_type": "code",
   "execution_count": 10,
   "id": "70305338",
   "metadata": {},
   "outputs": [],
   "source": [
    "using MFAScan.EnsembleTest\n",
    "using Lattices, LatticeModels\n",
    "using Random, Distributions"
   ]
  },
  {
   "cell_type": "code",
   "execution_count": 4,
   "id": "7f77da03",
   "metadata": {},
   "outputs": [],
   "source": [
    "struct CubicParams\n",
    "    L::Int64\n",
    "    W::Float64\n",
    "end"
   ]
  },
  {
   "cell_type": "code",
   "execution_count": 6,
   "id": "cd77f795",
   "metadata": {},
   "outputs": [
    {
     "data": {
      "text/plain": [
       "f (generic function with 1 method)"
      ]
     },
     "execution_count": 6,
     "metadata": {},
     "output_type": "execute_result"
    }
   ],
   "source": [
    "function f(p::CubicParams;rng = Random.GLOBAL_RNG)\n",
    "    H = cubic(L = p.L, M = p.L, N = p.L) .+ Diagonal(rand(Unfirom(-p.W, p,W), L^3))\n",
    "end"
   ]
  },
  {
   "cell_type": "code",
   "execution_count": 13,
   "id": "dcfa8e51",
   "metadata": {},
   "outputs": [
    {
     "data": {
      "text/plain": [
       "10"
      ]
     },
     "execution_count": 13,
     "metadata": {},
     "output_type": "execute_result"
    }
   ],
   "source": [
    "L = 20\n",
    "E_c = 0.\n",
    "E_del = 0.01\n",
    "l = [1, 2, 5, 10]\n",
    "q = collect(0:0.2:3);\n",
    "ltc = Lattice3D(L, L, L, 1);\n",
    "R = 10\n",
    "nev = 10"
   ]
  },
  {
   "cell_type": "code",
   "execution_count": null,
   "id": "fca27b41",
   "metadata": {},
   "outputs": [],
   "source": []
  }
 ],
 "metadata": {
  "kernelspec": {
   "display_name": "Julia 1.7.2",
   "language": "julia",
   "name": "julia-1.7"
  },
  "language_info": {
   "file_extension": ".jl",
   "mimetype": "application/julia",
   "name": "julia",
   "version": "1.7.2"
  }
 },
 "nbformat": 4,
 "nbformat_minor": 5
}
