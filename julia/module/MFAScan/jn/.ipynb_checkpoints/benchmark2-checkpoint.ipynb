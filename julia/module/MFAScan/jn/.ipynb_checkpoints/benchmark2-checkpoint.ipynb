{
 "cells": [
  {
   "cell_type": "code",
   "execution_count": 3,
   "id": "4e1edac1",
   "metadata": {},
   "outputs": [],
   "source": [
    "using MFAScan.EnsembleTest\n",
    "using Lattices, LatticeModels\n",
    "using Random, Distributions\n",
    "using LinearAlgebra, SparseArrays\n",
    "using ProfileView"
   ]
  },
  {
   "cell_type": "code",
   "execution_count": 4,
   "id": "1c1bbc7f",
   "metadata": {},
   "outputs": [],
   "source": [
    "struct CubicParams\n",
    "    L::Int64\n",
    "    W::Float64\n",
    "end"
   ]
  },
  {
   "cell_type": "code",
   "execution_count": 5,
   "id": "31bad540",
   "metadata": {},
   "outputs": [
    {
     "data": {
      "text/plain": [
       "f (generic function with 1 method)"
      ]
     },
     "execution_count": 5,
     "metadata": {},
     "output_type": "execute_result"
    }
   ],
   "source": [
    "function f(p::CubicParams;rng = Random.GLOBAL_RNG)\n",
    "    H = cubic(L = p.L, M = p.L, N = p.L) .+ Diagonal(rand(rng, Uniform(-p.W, p.W), p.L^3))\n",
    "end"
   ]
  },
  {
   "cell_type": "code",
   "execution_count": 6,
   "id": "d7f05889",
   "metadata": {},
   "outputs": [
    {
     "data": {
      "text/plain": [
       "CubicParams(20, 3.0)"
      ]
     },
     "execution_count": 6,
     "metadata": {},
     "output_type": "execute_result"
    }
   ],
   "source": [
    "L = 20\n",
    "W = 3.0\n",
    "E_c = 0.\n",
    "E_del = 0.01\n",
    "l = [1, 5]\n",
    "q = collect(0.1:0.2:3);\n",
    "ltc = Lattice3D(L, L, L, 1);\n",
    "R = 10\n",
    "nev = 10\n",
    "p = CubicParams(L, W)"
   ]
  },
  {
   "cell_type": "code",
   "execution_count": 9,
   "id": "4d07d272",
   "metadata": {},
   "outputs": [],
   "source": [
    "@profview scan_ταf(f, p, E_c, E_del, ltc, l=l, q=q, R=R, nev=nev);"
   ]
  },
  {
   "cell_type": "code",
   "execution_count": null,
   "id": "ac951415",
   "metadata": {},
   "outputs": [],
   "source": [
    "H = f(p)\n",
    "@time shift_invert_linear_map(H, 0.);"
   ]
  },
  {
   "cell_type": "code",
   "execution_count": null,
   "id": "79ac06dd",
   "metadata": {},
   "outputs": [],
   "source": []
  }
 ],
 "metadata": {
  "kernelspec": {
   "display_name": "Julia 1.7.2",
   "language": "julia",
   "name": "julia-1.7"
  },
  "language_info": {
   "file_extension": ".jl",
   "mimetype": "application/julia",
   "name": "julia",
   "version": "1.7.2"
  }
 },
 "nbformat": 4,
 "nbformat_minor": 5
}
