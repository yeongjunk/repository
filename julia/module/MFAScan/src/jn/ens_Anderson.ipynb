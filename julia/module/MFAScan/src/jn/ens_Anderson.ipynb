{
 "cells": [
  {
   "cell_type": "code",
   "execution_count": 6,
   "id": "7676abae",
   "metadata": {},
   "outputs": [],
   "source": [
    "using Revise\n",
    "\n",
    "using MFAScan.Ensemble\n",
    "using MFA.Ensemble\n",
    "using Random\n",
    "using LatticeModels\n",
    "using Lattices\n",
    "using LinearAlgebra\n",
    "using ProfileView\n",
    "using KrylovKit"
   ]
  },
  {
   "cell_type": "code",
   "execution_count": 7,
   "id": "c94b7aa2",
   "metadata": {},
   "outputs": [],
   "source": [
    "struct CubicParams\n",
    "    L::Int\n",
    "    W::Float64\n",
    "end"
   ]
  },
  {
   "cell_type": "code",
   "execution_count": 8,
   "id": "d4242a98",
   "metadata": {},
   "outputs": [
    {
     "data": {
      "text/plain": [
       "h (generic function with 1 method)"
      ]
     },
     "execution_count": 8,
     "metadata": {},
     "output_type": "execute_result"
    }
   ],
   "source": [
    "function f(p::CubicParams; rng = Random.GLOBAL_RNG)\n",
    "    H = cubic(L = p.L, M = p.L, N = p.L) .+ p.W*Diagonal(rand(L*L*L) .- 0.5)\n",
    "end\n",
    "\n",
    "function g(p::CubicParams; rng = Random.GLOBAL_RNG)\n",
    "    H = square(M = p.L, N = p.L) .+ p.W*Diagonal(rand(L*L) .- 0.5)\n",
    "end\n",
    "\n",
    "function h(p::CubicParams; rng = Random.GLOBAL_RNG) #Aubry Andre\n",
    "    H = chain(N = p.L) .+ p.W*Diagonal(cos.(2π*(1:L)*(1 + √5)/2 .+ 2*pi*rand(rng)))\n",
    "end"
   ]
  },
  {
   "cell_type": "code",
   "execution_count": 76,
   "id": "25c26d54",
   "metadata": {},
   "outputs": [],
   "source": [
    "L = 10; W = 10.0; E_c = 0.0; E_del = 0.5\n",
    "l = [1, 2]\n",
    "q = [0.0, 1.0, 2.0]\n",
    "\n",
    "p = CubicParams(L, W)\n",
    "ltc = Lattice3D(L, L, L, 1)\n",
    "p_MFA = MFAParameters(ltc, l, q)\n",
    "prepare_MFA!(p_MFA)"
   ]
  },
  {
   "cell_type": "code",
   "execution_count": 79,
   "id": "845d9ef2",
   "metadata": {},
   "outputs": [
    {
     "data": {
      "text/plain": [
       "(0.0007548110002236223, [-3.0 -3.000000000000001; -8.486081705668916e-16 -1.193389206109038e-15; 2.1000725343666904 2.427635681296164], [0.0 4.556259157007654e-16; 5.496176805211395e-16 8.122385063690905e-16; 0.052028090566693656 0.050474590395418927], [3.81248374655027 3.324015159279745; 2.4424174695781717 2.69289325308472; 1.8198654036523336 2.1855303596239994], [0.022745507139668285 0.027633429980169908; 0.024223948134920428 0.02762149710704271; 0.08086669577839872 0.07608247225461616], [3.0 3.000000000000001; 2.442417469578172 2.692893253084721; 1.5396582729379773 1.9434250379518354], [0.0 4.556259157007654e-16; 0.02422394813492038 0.027621497107042522; 0.11191416307616774 0.10555798707533984])"
      ]
     },
     "execution_count": 79,
     "metadata": {},
     "output_type": "execute_result"
    }
   ],
   "source": [
    "using MFAScan.Ensemble\n",
    "\n",
    "a, b, c, _= mt_scan_ταf(f,\n",
    "    p, \n",
    "    E_c, \n",
    "    E_del, \n",
    "    p_MFA,\n",
    "    R=20, \n",
    "    c = 1.0,\n",
    "    nev = 10, \n",
    "    rng = MersenneTwister(1234))"
   ]
  },
  {
   "cell_type": "code",
   "execution_count": 80,
   "id": "f1d8e87b",
   "metadata": {},
   "outputs": [
    {
     "data": {
      "text/plain": [
       "3×2 Matrix{Float64}:\n",
       " -3.0          -3.0\n",
       " -8.48608e-16  -1.19339e-15\n",
       "  2.10007       2.42764"
      ]
     },
     "execution_count": 80,
     "metadata": {},
     "output_type": "execute_result"
    }
   ],
   "source": [
    "b"
   ]
  },
  {
   "cell_type": "code",
   "execution_count": 81,
   "id": "c61d0cb1",
   "metadata": {},
   "outputs": [
    {
     "data": {
      "text/plain": [
       "Gtk.GtkWindowLeaf(name=\"\", parent, width-request=-1, height-request=-1, visible=TRUE, sensitive=TRUE, app-paintable=FALSE, can-focus=FALSE, has-focus=FALSE, is-focus=FALSE, focus-on-click=TRUE, can-default=FALSE, has-default=FALSE, receives-default=FALSE, composite-child=FALSE, style, events=0, no-show-all=FALSE, has-tooltip=FALSE, tooltip-markup=NULL, tooltip-text=NULL, window, opacity=1.000000, double-buffered, halign=GTK_ALIGN_FILL, valign=GTK_ALIGN_FILL, margin-left, margin-right, margin-start=0, margin-end=0, margin-top=0, margin-bottom=0, margin=0, hexpand=FALSE, vexpand=FALSE, hexpand-set=FALSE, vexpand-set=FALSE, expand=FALSE, scale-factor=2, border-width=0, resize-mode, child, type=GTK_WINDOW_TOPLEVEL, title=\"Profile  -  01:46:11\", role=NULL, resizable=TRUE, modal=FALSE, window-position=GTK_WIN_POS_NONE, default-width=800, default-height=600, destroy-with-parent=FALSE, hide-titlebar-when-maximized=FALSE, icon, icon-name=NULL, screen, type-hint=GDK_WINDOW_TYPE_HINT_NORMAL, skip-taskbar-hint=FALSE, skip-pager-hint=FALSE, urgency-hint=FALSE, accept-focus=TRUE, focus-on-map=TRUE, decorated=TRUE, deletable=TRUE, gravity=GDK_GRAVITY_NORTH_WEST, transient-for, attached-to, has-resize-grip, resize-grip-visible, application, is-active=TRUE, has-toplevel-focus=TRUE, startup-id, mnemonics-visible=FALSE, focus-visible=FALSE, is-maximized=FALSE)"
      ]
     },
     "execution_count": 81,
     "metadata": {},
     "output_type": "execute_result"
    }
   ],
   "source": [
    "@profview a, b, c, _= mt_scan_ταf(f,\n",
    "    p, \n",
    "    E_c, \n",
    "    E_del, \n",
    "    p_MFA,\n",
    "    R=20, \n",
    "    c = 1.0,\n",
    "    nev = 10, \n",
    "    rng = MersenneTwister(1234))"
   ]
  },
  {
   "cell_type": "code",
   "execution_count": null,
   "id": "59d54c64",
   "metadata": {},
   "outputs": [],
   "source": []
  },
  {
   "cell_type": "code",
   "execution_count": null,
   "id": "2364c6f8",
   "metadata": {},
   "outputs": [],
   "source": []
  }
 ],
 "metadata": {
  "kernelspec": {
   "display_name": "Julia 1.8.5",
   "language": "julia",
   "name": "julia-1.8"
  },
  "language_info": {
   "file_extension": ".jl",
   "mimetype": "application/julia",
   "name": "julia",
   "version": "1.8.5"
  }
 },
 "nbformat": 4,
 "nbformat_minor": 5
}
