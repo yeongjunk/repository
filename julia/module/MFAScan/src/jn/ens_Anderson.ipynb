{
 "cells": [
  {
   "cell_type": "code",
   "execution_count": 1,
   "id": "7676abae",
   "metadata": {},
   "outputs": [
    {
     "name": "stderr",
     "output_type": "stream",
     "text": [
      "\u001b[36m\u001b[1m[ \u001b[22m\u001b[39m\u001b[36m\u001b[1mInfo: \u001b[22m\u001b[39mPrecompiling MFAScan [top-level]\n"
     ]
    }
   ],
   "source": [
    "using Revise\n",
    "\n",
    "using MFAScan.Ensemble\n",
    "using MFA.Ensemble\n",
    "using Random\n",
    "using LatticeModels\n",
    "using Lattices\n",
    "using LinearAlgebra\n",
    "using ProfileView\n",
    "using KrylovKit"
   ]
  },
  {
   "cell_type": "code",
   "execution_count": 2,
   "id": "c94b7aa2",
   "metadata": {},
   "outputs": [],
   "source": [
    "struct CubicParams\n",
    "    L::Int\n",
    "    W::Float64\n",
    "end"
   ]
  },
  {
   "cell_type": "code",
   "execution_count": 3,
   "id": "d4242a98",
   "metadata": {},
   "outputs": [
    {
     "data": {
      "text/plain": [
       "h (generic function with 1 method)"
      ]
     },
     "execution_count": 3,
     "metadata": {},
     "output_type": "execute_result"
    }
   ],
   "source": [
    "function f(p::CubicParams; rng = Random.GLOBAL_RNG)\n",
    "    H = cubic(L = p.L, M = p.L, N = p.L) .+ p.W*Diagonal(rand(L*L*L) .- 0.5)\n",
    "end\n",
    "\n",
    "function g(p::CubicParams; rng = Random.GLOBAL_RNG)\n",
    "    H = square(M = p.L, N = p.L) .+ p.W*Diagonal(rand(L*L) .- 0.5)\n",
    "end\n",
    "\n",
    "function h(p::CubicParams; rng = Random.GLOBAL_RNG) #Aubry Andre\n",
    "    H = chain(N = p.L) .+ p.W*Diagonal(cos.(2π*(1:L)*(1 + √5)/2 .+ 2*pi*rand(rng)))\n",
    "end"
   ]
  },
  {
   "cell_type": "code",
   "execution_count": 42,
   "id": "25c26d54",
   "metadata": {},
   "outputs": [],
   "source": [
    "L = 10; W = 5.0; E_c = 0.0; E_del = 0.1\n",
    "l = [1]\n",
    "q = [2.0]\n",
    "\n",
    "p = CubicParams(L, W)\n",
    "ltc = Lattice3D(L, L, L, 1)\n",
    "p_MFA = MFAParameters(ltc, l, q)\n",
    "prepare_MFA!(p_MFA)"
   ]
  },
  {
   "cell_type": "code",
   "execution_count": 46,
   "id": "845d9ef2",
   "metadata": {},
   "outputs": [
    {
     "name": "stdout",
     "output_type": "stream",
     "text": [
      "  0.893317 seconds (162.47 k allocations: 700.040 MiB, 1.07% gc time)\n"
     ]
    },
    {
     "data": {
      "text/plain": [
       "(-0.0002973246783800491, [2.468121068475237;;], [0.01128867724580137;;], [2.3153516525839812;;], [0.018629163195522533;;], [2.1625822366927254;;], [0.026367637550576833;;])"
      ]
     },
     "execution_count": 46,
     "metadata": {},
     "output_type": "execute_result"
    }
   ],
   "source": [
    "using MFAScan.Ensemble\n",
    "\n",
    "@time a, b, c, _= mt_scan_ταf(f,\n",
    "    p, \n",
    "    E_c, \n",
    "    E_del, \n",
    "    p_MFA,\n",
    "    R=100, \n",
    "    c = 2000.0,\n",
    "    nev = 10, \n",
    "    rng = MersenneTwister(1234))"
   ]
  },
  {
   "cell_type": "code",
   "execution_count": 41,
   "id": "f1d8e87b",
   "metadata": {},
   "outputs": [
    {
     "data": {
      "text/plain": [
       "1×1 Matrix{Float64}:\n",
       " 169.14882792429316"
      ]
     },
     "execution_count": 41,
     "metadata": {},
     "output_type": "execute_result"
    }
   ],
   "source": [
    "b"
   ]
  },
  {
   "cell_type": "code",
   "execution_count": 81,
   "id": "c61d0cb1",
   "metadata": {},
   "outputs": [
    {
     "data": {
      "text/plain": [
       "Gtk.GtkWindowLeaf(name=\"\", parent, width-request=-1, height-request=-1, visible=TRUE, sensitive=TRUE, app-paintable=FALSE, can-focus=FALSE, has-focus=FALSE, is-focus=FALSE, focus-on-click=TRUE, can-default=FALSE, has-default=FALSE, receives-default=FALSE, composite-child=FALSE, style, events=0, no-show-all=FALSE, has-tooltip=FALSE, tooltip-markup=NULL, tooltip-text=NULL, window, opacity=1.000000, double-buffered, halign=GTK_ALIGN_FILL, valign=GTK_ALIGN_FILL, margin-left, margin-right, margin-start=0, margin-end=0, margin-top=0, margin-bottom=0, margin=0, hexpand=FALSE, vexpand=FALSE, hexpand-set=FALSE, vexpand-set=FALSE, expand=FALSE, scale-factor=2, border-width=0, resize-mode, child, type=GTK_WINDOW_TOPLEVEL, title=\"Profile  -  01:46:11\", role=NULL, resizable=TRUE, modal=FALSE, window-position=GTK_WIN_POS_NONE, default-width=800, default-height=600, destroy-with-parent=FALSE, hide-titlebar-when-maximized=FALSE, icon, icon-name=NULL, screen, type-hint=GDK_WINDOW_TYPE_HINT_NORMAL, skip-taskbar-hint=FALSE, skip-pager-hint=FALSE, urgency-hint=FALSE, accept-focus=TRUE, focus-on-map=TRUE, decorated=TRUE, deletable=TRUE, gravity=GDK_GRAVITY_NORTH_WEST, transient-for, attached-to, has-resize-grip, resize-grip-visible, application, is-active=TRUE, has-toplevel-focus=TRUE, startup-id, mnemonics-visible=FALSE, focus-visible=FALSE, is-maximized=FALSE)"
      ]
     },
     "execution_count": 81,
     "metadata": {},
     "output_type": "execute_result"
    }
   ],
   "source": [
    "@profview a, b, c, _= mt_scan_ταf(f,\n",
    "    p, \n",
    "    E_c, \n",
    "    E_del, \n",
    "    p_MFA,\n",
    "    R=20, \n",
    "    c = 1.0,\n",
    "    nev = 10, \n",
    "    rng = MersenneTwister(1234))"
   ]
  },
  {
   "cell_type": "code",
   "execution_count": null,
   "id": "59d54c64",
   "metadata": {},
   "outputs": [],
   "source": []
  },
  {
   "cell_type": "code",
   "execution_count": null,
   "id": "2364c6f8",
   "metadata": {},
   "outputs": [],
   "source": []
  }
 ],
 "metadata": {
  "kernelspec": {
   "display_name": "Julia 1.8.5",
   "language": "julia",
   "name": "julia-1.8"
  },
  "language_info": {
   "file_extension": ".jl",
   "mimetype": "application/julia",
   "name": "julia",
   "version": "1.8.5"
  }
 },
 "nbformat": 4,
 "nbformat_minor": 5
}
