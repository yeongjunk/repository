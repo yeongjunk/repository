{
 "cells": [
  {
   "cell_type": "code",
   "execution_count": 26,
   "id": "7676abae",
   "metadata": {},
   "outputs": [
    {
     "data": {
      "text/plain": [
       "Plots.PlotlyBackend()"
      ]
     },
     "execution_count": 26,
     "metadata": {},
     "output_type": "execute_result"
    }
   ],
   "source": [
    "using Revise\n",
    "\n",
    "using MFAScan.EnsembleTest\n",
    "using MFA.Ensemble\n",
    "using Random\n",
    "using LatticeModels\n",
    "using Plots\n",
    "using Lattices\n",
    "using LinearAlgebra\n",
    "using ProfileView\n",
    "using KrylovKit\n",
    "plotly()"
   ]
  },
  {
   "cell_type": "code",
   "execution_count": 27,
   "id": "c94b7aa2",
   "metadata": {},
   "outputs": [],
   "source": [
    "struct CubicParams\n",
    "    L::Int\n",
    "    W::Float64\n",
    "end"
   ]
  },
  {
   "cell_type": "code",
   "execution_count": 28,
   "id": "d4242a98",
   "metadata": {},
   "outputs": [
    {
     "data": {
      "text/plain": [
       "h (generic function with 1 method)"
      ]
     },
     "execution_count": 28,
     "metadata": {},
     "output_type": "execute_result"
    }
   ],
   "source": [
    "function f(p::CubicParams; rng = Random.GLOBAL_RNG)\n",
    "    H = cubic(L = p.L, M = p.L, N = p.L) .+ p.W*Diagonal(rand(L*L*L) .- 0.5)\n",
    "end\n",
    "\n",
    "function g(p::CubicParams; rng = Random.GLOBAL_RNG)\n",
    "    H = square(M = p.L, N = p.L) .+ p.W*Diagonal(rand(L*L) .- 0.5)\n",
    "end\n",
    "\n",
    "function h(p::CubicParams; rng = Random.GLOBAL_RNG) #Aubry Andre\n",
    "    H = chain(N = p.L) .+ p.W*Diagonal(cos.(2π*(1:L)*(1 + √5)/2 .+ 2*pi*rand(rng)))\n",
    "end"
   ]
  },
  {
   "cell_type": "code",
   "execution_count": 29,
   "id": "25c26d54",
   "metadata": {},
   "outputs": [],
   "source": [
    "L = 18; W = 3.5; E_c = 0.0; E_del = 0.5\n",
    "l = [1]\n",
    "q = collect(0:0.3:3)\n",
    "\n",
    "p = CubicParams(L, W)\n",
    "ltc = Lattice3D(L, L, L, 1)\n",
    "p_MFA = MFAParameters(ltc, l, q)\n",
    "prepare_MFA!(p_MFA)"
   ]
  },
  {
   "cell_type": "code",
   "execution_count": 30,
   "id": "5bdcf67b",
   "metadata": {},
   "outputs": [
    {
     "name": "stdout",
     "output_type": "stream",
     "text": [
      "MethodInstance for (::MFAScan.EnsembleTest.var\"#scan_ταf##kw\")(::NamedTuple{(:rng, :R, :nev), Tuple{MersenneTwister, Int64, Int64}}, ::typeof(scan_ταf), ::typeof(f), ::CubicParams, ::Float64, ::Float64, ::MFAParameters{Lattice3D{Int64}})\n",
      "  from (::MFAScan.EnsembleTest.var\"#scan_ταf##kw\")(::Any, ::typeof(scan_ταf), f::Function, params, E_c::Float64, E_del::Float64, p_MFA::MFAParameters) in MFAScan.EnsembleTest at /Users/kimyeongjun/codes/project/julia/module/MFAScan/src/ensemble_test.jl:55\n",
      "Arguments\n",
      "  _\u001b[36m::Core.Const(MFAScan.EnsembleTest.var\"#scan_ταf##kw\"())\u001b[39m\n",
      "  @_2\u001b[36m::NamedTuple{(:rng, :R, :nev), Tuple{MersenneTwister, Int64, Int64}}\u001b[39m\n",
      "  @_3\u001b[36m::Core.Const(MFAScan.EnsembleTest.scan_ταf)\u001b[39m\n",
      "  f\u001b[36m::Core.Const(f)\u001b[39m\n",
      "  params\u001b[36m::CubicParams\u001b[39m\n",
      "  E_c\u001b[36m::Float64\u001b[39m\n",
      "  E_del\u001b[36m::Float64\u001b[39m\n",
      "  p_MFA\u001b[36m::MFAParameters{Lattice3D{Int64}}\u001b[39m\n",
      "Locals\n",
      "  c\u001b[36m::Float64\u001b[39m\n",
      "  nev\u001b[36m::Int64\u001b[39m\n",
      "  rng\u001b[36m::MersenneTwister\u001b[39m\n",
      "  isherm\u001b[36m::Bool\u001b[39m\n",
      "  noaverage\u001b[36m::Bool\u001b[39m\n",
      "  kwargs_eig...\u001b[36m::Base.Pairs{Symbol, Union{}, Tuple{}, NamedTuple{(), Tuple{}}}\u001b[39m\n",
      "  R\u001b[36m::Int64\u001b[39m\n",
      "  @_16\u001b[36m::Float64\u001b[39m\n",
      "  @_17\u001b[36m::Int64\u001b[39m\n",
      "  @_18\u001b[36m::MersenneTwister\u001b[39m\n",
      "  @_19\u001b[36m::Bool\u001b[39m\n",
      "  @_20\u001b[36m::Bool\u001b[39m\n",
      "  @_21\u001b[36m::Int64\u001b[39m\n",
      "Body\u001b[91m\u001b[1m::NTuple{6, Any}\u001b[22m\u001b[39m\n",
      "\u001b[90m1 ──\u001b[39m %1  = Base.haskey(@_2, :c)\u001b[36m::Core.Const(false)\u001b[39m\n",
      "\u001b[90m└───\u001b[39m       goto #3 if not %1\n",
      "\u001b[90m2 ──\u001b[39m       Core.Const(:(Base.getindex(@_2, :c)))\n",
      "\u001b[90m│   \u001b[39m       Core.Const(:(%3 isa MFAScan.EnsembleTest.Float64))\n",
      "\u001b[90m│   \u001b[39m       Core.Const(:(Core.typeassert(%4, Core.Bool)))\n",
      "\u001b[90m│   \u001b[39m       Core.Const(:(goto %9))\n",
      "\u001b[90m│   \u001b[39m       Core.Const(:(%new(Core.TypeError, Symbol(\"keyword argument\"), :c, MFAScan.EnsembleTest.Float64, %3)))\n",
      "\u001b[90m│   \u001b[39m       Core.Const(:(Core.throw(%7)))\n",
      "\u001b[90m│   \u001b[39m       Core.Const(:(@_16 = %3))\n",
      "\u001b[90m└───\u001b[39m       Core.Const(:(goto %12))\n",
      "\u001b[90m3 ┄─\u001b[39m       (@_16 = 1.0)\n",
      "\u001b[90m│   \u001b[39m %12 = @_16\u001b[36m::Core.Const(1.0)\u001b[39m\n",
      "\u001b[90m│   \u001b[39m       (c = %12)\n",
      "\u001b[90m│   \u001b[39m %14 = Base.haskey(@_2, :nev)\u001b[36m::Core.Const(true)\u001b[39m\n",
      "\u001b[90m│   \u001b[39m       Core.typeassert(%14, Core.Bool)\n",
      "\u001b[90m│   \u001b[39m       (@_17 = Base.getindex(@_2, :nev))\n",
      "\u001b[90m└───\u001b[39m       goto #5\n",
      "\u001b[90m4 ──\u001b[39m       Core.Const(:(@_17 = 10))\n",
      "\u001b[90m5 ┄─\u001b[39m %19 = @_17\u001b[36m::Int64\u001b[39m\n",
      "\u001b[90m│   \u001b[39m       (nev = %19)\n",
      "\u001b[90m│   \u001b[39m %21 = Base.haskey(@_2, :rng)\u001b[36m::Core.Const(true)\u001b[39m\n",
      "\u001b[90m│   \u001b[39m       Core.typeassert(%21, Core.Bool)\n",
      "\u001b[90m│   \u001b[39m       (@_18 = Base.getindex(@_2, :rng))\n",
      "\u001b[90m└───\u001b[39m       goto #7\n",
      "\u001b[90m6 ──\u001b[39m       Core.Const(:(@_18 = Base.getproperty(MFAScan.EnsembleTest.Random, :GLOBAL_RNG)))\n",
      "\u001b[90m7 ┄─\u001b[39m %26 = @_18\u001b[36m::MersenneTwister\u001b[39m\n",
      "\u001b[90m│   \u001b[39m       (rng = %26)\n",
      "\u001b[90m│   \u001b[39m %28 = Base.haskey(@_2, :isherm)\u001b[36m::Core.Const(false)\u001b[39m\n",
      "\u001b[90m└───\u001b[39m       goto #9 if not %28\n",
      "\u001b[90m8 ──\u001b[39m       Core.Const(:(Base.getindex(@_2, :isherm)))\n",
      "\u001b[90m│   \u001b[39m       Core.Const(:(%30 isa MFAScan.EnsembleTest.Bool))\n",
      "\u001b[90m│   \u001b[39m       Core.Const(:(Core.typeassert(%31, Core.Bool)))\n",
      "\u001b[90m│   \u001b[39m       Core.Const(:(goto %36))\n",
      "\u001b[90m│   \u001b[39m       Core.Const(:(%new(Core.TypeError, Symbol(\"keyword argument\"), :isherm, MFAScan.EnsembleTest.Bool, %30)))\n",
      "\u001b[90m│   \u001b[39m       Core.Const(:(Core.throw(%34)))\n",
      "\u001b[90m│   \u001b[39m       Core.Const(:(@_19 = %30))\n",
      "\u001b[90m└───\u001b[39m       Core.Const(:(goto %39))\n",
      "\u001b[90m9 ┄─\u001b[39m       (@_19 = true)\n",
      "\u001b[90m│   \u001b[39m %39 = @_19\u001b[36m::Core.Const(true)\u001b[39m\n",
      "\u001b[90m│   \u001b[39m       (isherm = %39)\n",
      "\u001b[90m│   \u001b[39m %41 = Base.haskey(@_2, :noaverage)\u001b[36m::Core.Const(false)\u001b[39m\n",
      "\u001b[90m└───\u001b[39m       goto #11 if not %41\n",
      "\u001b[90m10 ─\u001b[39m       Core.Const(:(@_20 = Base.getindex(@_2, :noaverage)))\n",
      "\u001b[90m└───\u001b[39m       Core.Const(:(goto %46))\n",
      "\u001b[90m11 ┄\u001b[39m       (@_20 = false)\n",
      "\u001b[90m│   \u001b[39m %46 = @_20\u001b[36m::Core.Const(false)\u001b[39m\n",
      "\u001b[90m│   \u001b[39m       (noaverage = %46)\n",
      "\u001b[90m│   \u001b[39m %48 = Base.haskey(@_2, :R)\u001b[36m::Core.Const(true)\u001b[39m\n",
      "\u001b[90m│   \u001b[39m       Core.typeassert(%48, Core.Bool)\n",
      "\u001b[90m│   \u001b[39m %50 = Base.getindex(@_2, :R)\u001b[36m::Int64\u001b[39m\n",
      "\u001b[90m│   \u001b[39m %51 = (%50 isa MFAScan.EnsembleTest.Int)\u001b[36m::Core.Const(true)\u001b[39m\n",
      "\u001b[90m│   \u001b[39m       Core.typeassert(%51, Core.Bool)\n",
      "\u001b[90m└───\u001b[39m       goto #13\n",
      "\u001b[90m12 ─\u001b[39m       Core.Const(:(%new(Core.TypeError, Symbol(\"keyword argument\"), :R, MFAScan.EnsembleTest.Int, %50)))\n",
      "\u001b[90m└───\u001b[39m       Core.Const(:(Core.throw(%54)))\n",
      "\u001b[90m13 ┄\u001b[39m       (@_21 = %50)\n",
      "\u001b[90m└───\u001b[39m       goto #15\n",
      "\u001b[90m14 ─\u001b[39m       Core.Const(:(@_21 = 10))\n",
      "\u001b[90m15 ┄\u001b[39m %59 = @_21\u001b[36m::Int64\u001b[39m\n",
      "\u001b[90m│   \u001b[39m       (R = %59)\n",
      "\u001b[90m│   \u001b[39m %61 = (:c, :nev, :rng, :isherm, :noaverage, :R)\u001b[36m::Core.Const((:c, :nev, :rng, :isherm, :noaverage, :R))\u001b[39m\n",
      "\u001b[90m│   \u001b[39m %62 = Core.apply_type(Core.NamedTuple, %61)\u001b[36m::Core.Const(NamedTuple{(:c, :nev, :rng, :isherm, :noaverage, :R)})\u001b[39m\n",
      "\u001b[90m│   \u001b[39m %63 = Base.structdiff(@_2, %62)\u001b[36m::Core.Const(NamedTuple())\u001b[39m\n",
      "\u001b[90m│   \u001b[39m       (kwargs_eig... = Base.pairs(%63))\n",
      "\u001b[90m│   \u001b[39m %65 = MFAScan.EnsembleTest.:(var\"#scan_ταf#12\")(c::Core.Const(1.0), nev, rng, isherm::Core.Const(true), noaverage::Core.Const(false), R, kwargs_eig..., @_3, f, params, E_c, E_del, p_MFA)\u001b[91m\u001b[1m::NTuple{6, Any}\u001b[22m\u001b[39m\n",
      "\u001b[90m└───\u001b[39m       return %65\n",
      "\n"
     ]
    }
   ],
   "source": [
    "@code_warntype scan_ταf(f, p, rng = MersenneTwister(1234), E_c, E_del, p_MFA, R=10, nev = 10)"
   ]
  },
  {
   "cell_type": "code",
   "execution_count": 31,
   "id": "f3ccae94",
   "metadata": {},
   "outputs": [
    {
     "data": {
      "text/plain": [
       "Gtk.GtkWindowLeaf(name=\"\", parent, width-request=-1, height-request=-1, visible=TRUE, sensitive=TRUE, app-paintable=FALSE, can-focus=FALSE, has-focus=FALSE, is-focus=FALSE, focus-on-click=TRUE, can-default=FALSE, has-default=FALSE, receives-default=FALSE, composite-child=FALSE, style, events=0, no-show-all=FALSE, has-tooltip=FALSE, tooltip-markup=NULL, tooltip-text=NULL, window, opacity=1.000000, double-buffered, halign=GTK_ALIGN_FILL, valign=GTK_ALIGN_FILL, margin-left, margin-right, margin-start=0, margin-end=0, margin-top=0, margin-bottom=0, margin=0, hexpand=FALSE, vexpand=FALSE, hexpand-set=FALSE, vexpand-set=FALSE, expand=FALSE, scale-factor=2, border-width=0, resize-mode, child, type=GTK_WINDOW_TOPLEVEL, title=\"Profile\", role=NULL, resizable=TRUE, modal=FALSE, window-position=GTK_WIN_POS_NONE, default-width=800, default-height=600, destroy-with-parent=FALSE, hide-titlebar-when-maximized=FALSE, icon, icon-name=NULL, screen, type-hint=GDK_WINDOW_TYPE_HINT_NORMAL, skip-taskbar-hint=FALSE, skip-pager-hint=FALSE, urgency-hint=FALSE, accept-focus=TRUE, focus-on-map=TRUE, decorated=TRUE, deletable=TRUE, gravity=GDK_GRAVITY_NORTH_WEST, transient-for, attached-to, has-resize-grip, resize-grip-visible, application, is-active=FALSE, has-toplevel-focus=FALSE, startup-id, mnemonics-visible=FALSE, focus-visible=FALSE, is-maximized=FALSE)"
      ]
     },
     "execution_count": 31,
     "metadata": {},
     "output_type": "execute_result"
    }
   ],
   "source": [
    "@profview E, gipr, μqlnμ, τ, α, f_α = scan_ταf(f, p, rng = MersenneTwister(1234), E_c, E_del, p_MFA, R=10, nev = 10)"
   ]
  },
  {
   "cell_type": "code",
   "execution_count": 32,
   "id": "845d9ef2",
   "metadata": {},
   "outputs": [
    {
     "data": {
      "text/plain": [
       "Gtk.GtkWindowLeaf(name=\"\", parent, width-request=-1, height-request=-1, visible=TRUE, sensitive=TRUE, app-paintable=FALSE, can-focus=FALSE, has-focus=FALSE, is-focus=FALSE, focus-on-click=TRUE, can-default=FALSE, has-default=FALSE, receives-default=FALSE, composite-child=FALSE, style, events=0, no-show-all=FALSE, has-tooltip=FALSE, tooltip-markup=NULL, tooltip-text=NULL, window, opacity=1.000000, double-buffered, halign=GTK_ALIGN_FILL, valign=GTK_ALIGN_FILL, margin-left, margin-right, margin-start=0, margin-end=0, margin-top=0, margin-bottom=0, margin=0, hexpand=FALSE, vexpand=FALSE, hexpand-set=FALSE, vexpand-set=FALSE, expand=FALSE, scale-factor=2, border-width=0, resize-mode, child, type=GTK_WINDOW_TOPLEVEL, title=\"Profile\", role=NULL, resizable=TRUE, modal=FALSE, window-position=GTK_WIN_POS_NONE, default-width=800, default-height=600, destroy-with-parent=FALSE, hide-titlebar-when-maximized=FALSE, icon, icon-name=NULL, screen, type-hint=GDK_WINDOW_TYPE_HINT_NORMAL, skip-taskbar-hint=FALSE, skip-pager-hint=FALSE, urgency-hint=FALSE, accept-focus=TRUE, focus-on-map=TRUE, decorated=TRUE, deletable=TRUE, gravity=GDK_GRAVITY_NORTH_WEST, transient-for, attached-to, has-resize-grip, resize-grip-visible, application, is-active=FALSE, has-toplevel-focus=FALSE, startup-id, mnemonics-visible=FALSE, focus-visible=FALSE, is-maximized=FALSE)"
      ]
     },
     "execution_count": 32,
     "metadata": {},
     "output_type": "execute_result"
    }
   ],
   "source": [
    "@profview E, gipr, μqlnμ, τ, α, f_α = mt_scan_ταf(f, p, rng = MersenneTwister(1234), E_c, E_del, p_MFA, R=10, nev = 10)"
   ]
  },
  {
   "cell_type": "code",
   "execution_count": 33,
   "id": "344e437d",
   "metadata": {},
   "outputs": [
    {
     "name": "stdout",
     "output_type": "stream",
     "text": [
      "  0.204067 seconds (233.69 k allocations: 70.680 MiB, 1.57% gc time, 42.49% compilation time)\n",
      "  0.252776 seconds (10.66 k allocations: 36.331 MiB, 3.58% compilation time)\n"
     ]
    },
    {
     "data": {
      "text/plain": [
       "5832-element Vector{Float64}:\n",
       "   0.4092736078657222\n",
       "  -6.567574739724421\n",
       "   5.330376598271519\n",
       "  -4.695589565091767\n",
       " -14.948054908928428\n",
       "  -3.7501122834070277\n",
       "   2.97210845115751\n",
       " -12.77065399066046\n",
       "   4.333905855921993\n",
       "  13.729775056544913\n",
       "  14.012257923786198\n",
       "   1.718202604355477\n",
       "   3.846603640696923\n",
       "   ⋮\n",
       "   3.8599079065234996\n",
       "  20.926211813200098\n",
       "   0.6582419988975658\n",
       " -19.276594925352587\n",
       "   0.37831243072227094\n",
       "   0.6850999489139582\n",
       "   1.4967493886453354\n",
       " -20.192096518274955\n",
       "   1.1842198731275875\n",
       "   2.278908373223473\n",
       "  -4.049062581918807\n",
       "   6.477601517590785"
      ]
     },
     "execution_count": 33,
     "metadata": {},
     "output_type": "execute_result"
    }
   ],
   "source": [
    "function ldiv2!(y, F, x)\n",
    "    y .= F\\x \n",
    "end\n",
    "\n",
    "H = f(p)\n",
    "x = rand(size(H, 1))\n",
    "y = rand(size(H, 1))\n",
    "\n",
    "@time begin \n",
    "    F = lu(H)\n",
    "    ldiv!(y, F, x);\n",
    "end\n",
    "\n",
    "\n",
    "@time begin \n",
    "    F = factorize(H)\n",
    "    ldiv2!(y, F, x);\n",
    "end\n",
    "\n"
   ]
  }
 ],
 "metadata": {
  "kernelspec": {
   "display_name": "Julia 1.7.2",
   "language": "julia",
   "name": "julia-1.7"
  },
  "language_info": {
   "file_extension": ".jl",
   "mimetype": "application/julia",
   "name": "julia",
   "version": "1.7.2"
  }
 },
 "nbformat": 4,
 "nbformat_minor": 5
}
