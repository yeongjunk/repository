{
 "cells": [
  {
   "cell_type": "code",
   "execution_count": 6,
   "id": "7676abae",
   "metadata": {},
   "outputs": [],
   "source": [
    "using Revise\n",
    "\n",
    "using MFAScan.Ensemble\n",
    "using MFA.Ensemble\n",
    "using Random\n",
    "using LatticeModels\n",
    "using Lattices\n",
    "using LinearAlgebra\n",
    "using ProfileView\n",
    "using KrylovKit"
   ]
  },
  {
   "cell_type": "code",
   "execution_count": 7,
   "id": "c94b7aa2",
   "metadata": {},
   "outputs": [],
   "source": [
    "struct CubicParams\n",
    "    L::Int\n",
    "    W::Float64\n",
    "end"
   ]
  },
  {
   "cell_type": "code",
   "execution_count": 8,
   "id": "d4242a98",
   "metadata": {},
   "outputs": [
    {
     "data": {
      "text/plain": [
       "h (generic function with 1 method)"
      ]
     },
     "execution_count": 8,
     "metadata": {},
     "output_type": "execute_result"
    }
   ],
   "source": [
    "function f(p::CubicParams; rng = Random.GLOBAL_RNG)\n",
    "    H = cubic(L = p.L, M = p.L, N = p.L) .+ p.W*Diagonal(rand(L*L*L) .- 0.5)\n",
    "end\n",
    "\n",
    "function g(p::CubicParams; rng = Random.GLOBAL_RNG)\n",
    "    H = square(M = p.L, N = p.L) .+ p.W*Diagonal(rand(L*L) .- 0.5)\n",
    "end\n",
    "\n",
    "function h(p::CubicParams; rng = Random.GLOBAL_RNG) #Aubry Andre\n",
    "    H = chain(N = p.L) .+ p.W*Diagonal(cos.(2π*(1:L)*(1 + √5)/2 .+ 2*pi*rand(rng)))\n",
    "end"
   ]
  },
  {
   "cell_type": "code",
   "execution_count": 9,
   "id": "25c26d54",
   "metadata": {},
   "outputs": [],
   "source": [
    "L = 10; W = 3.5; E_c = 0.0; E_del = 0.5\n",
    "l = [1, 2]\n",
    "q = [0.0, 1.0, 2.0]\n",
    "\n",
    "p = CubicParams(L, W)\n",
    "ltc = Lattice3D(L, L, L, 1)\n",
    "p_MFA = MFAParameters(ltc, l, q)\n",
    "prepare_MFA!(p_MFA)"
   ]
  },
  {
   "cell_type": "code",
   "execution_count": 54,
   "id": "845d9ef2",
   "metadata": {},
   "outputs": [
    {
     "data": {
      "text/plain": [
       "3×2 Matrix{Float64}:\n",
       " -3.0          -3.0\n",
       " -1.02219e-15  -1.50381e-15\n",
       "  2.51163       2.81712"
      ]
     },
     "metadata": {},
     "output_type": "display_data"
    },
    {
     "data": {
      "text/plain": [
       "(-0.00017042142456047459, [-3.0 -3.000000000000001; -1.022187114546483e-15 -1.5038083637674579e-15; 2.5116274053953846 2.817116259027744], [3.558470342507623 3.1052714601198534; 2.6771531027221513 2.902354546340148; 2.3774565791871343 2.737014112047428], [3.0 3.000000000000001; 2.6771531027221522 2.9023545463401486; 2.243285752978884 2.656911965067112], [0.0 4.556259157007654e-16; 4.623693646111793e-16 6.454036839275285e-16; 0.006668103446629416 0.008293291114333055], [0.008021449129649139 0.004418018425131014; 0.004484428555376948 0.004090869359802597; 0.009368804921935675 0.01308849153945306], [0.0 4.556259157007654e-16; 0.004484428555377023 0.004090869359802695; 0.012546168467215226 0.01810119840274774])"
      ]
     },
     "execution_count": 54,
     "metadata": {},
     "output_type": "execute_result"
    }
   ],
   "source": [
    "using MFAScan.Ensemble\n",
    "\n",
    "a, b, _,_,b_err,_,_= mt_scan_ταf(f,\n",
    "    p, \n",
    "    E_c, \n",
    "    E_del, \n",
    "    p_MFA,\n",
    "    R=20, \n",
    "    c = 1.0,\n",
    "    nev = 10, \n",
    "    rng = MersenneTwister(1234))"
   ]
  },
  {
   "cell_type": "code",
   "execution_count": 68,
   "id": "f66fc3ea",
   "metadata": {},
   "outputs": [
    {
     "data": {
      "text/plain": [
       "3×2 Matrix{Float64}:\n",
       " -3.0         -3.0\n",
       " -7.6423e-16  -1.09337e-15\n",
       "  2.51324      2.81732"
      ]
     },
     "metadata": {},
     "output_type": "display_data"
    },
    {
     "data": {
      "text/plain": [
       "Gtk.GtkWindowLeaf(name=\"\", parent, width-request=-1, height-request=-1, visible=TRUE, sensitive=TRUE, app-paintable=FALSE, can-focus=FALSE, has-focus=FALSE, is-focus=FALSE, focus-on-click=TRUE, can-default=FALSE, has-default=FALSE, receives-default=FALSE, composite-child=FALSE, style, events=0, no-show-all=FALSE, has-tooltip=FALSE, tooltip-markup=NULL, tooltip-text=NULL, window, opacity=1.000000, double-buffered, halign=GTK_ALIGN_FILL, valign=GTK_ALIGN_FILL, margin-left, margin-right, margin-start=0, margin-end=0, margin-top=0, margin-bottom=0, margin=0, hexpand=FALSE, vexpand=FALSE, hexpand-set=FALSE, vexpand-set=FALSE, expand=FALSE, scale-factor=2, border-width=0, resize-mode, child, type=GTK_WINDOW_TOPLEVEL, title=\"Profile  -  01:30:37\", role=NULL, resizable=TRUE, modal=FALSE, window-position=GTK_WIN_POS_NONE, default-width=800, default-height=600, destroy-with-parent=FALSE, hide-titlebar-when-maximized=FALSE, icon, icon-name=NULL, screen, type-hint=GDK_WINDOW_TYPE_HINT_NORMAL, skip-taskbar-hint=FALSE, skip-pager-hint=FALSE, urgency-hint=FALSE, accept-focus=TRUE, focus-on-map=TRUE, decorated=TRUE, deletable=TRUE, gravity=GDK_GRAVITY_NORTH_WEST, transient-for, attached-to, has-resize-grip, resize-grip-visible, application, is-active=FALSE, has-toplevel-focus=FALSE, startup-id, mnemonics-visible=FALSE, focus-visible=FALSE, is-maximized=FALSE)"
      ]
     },
     "execution_count": 68,
     "metadata": {},
     "output_type": "execute_result"
    }
   ],
   "source": [
    "\n",
    "@profview a, b, c, _= mt_scan_ταf(f,\n",
    "    p, \n",
    "    E_c, \n",
    "    E_del, \n",
    "    p_MFA,\n",
    "    R=20, \n",
    "    c = 1.0,\n",
    "    nev = 10, \n",
    "    rng = MersenneTwister(1234))"
   ]
  },
  {
   "cell_type": "code",
   "execution_count": null,
   "id": "015dc955",
   "metadata": {},
   "outputs": [],
   "source": []
  },
  {
   "cell_type": "code",
   "execution_count": null,
   "id": "2c1f123b",
   "metadata": {},
   "outputs": [],
   "source": []
  }
 ],
 "metadata": {
  "kernelspec": {
   "display_name": "Julia 1.8.5",
   "language": "julia",
   "name": "julia-1.8"
  },
  "language_info": {
   "file_extension": ".jl",
   "mimetype": "application/julia",
   "name": "julia",
   "version": "1.8.5"
  }
 },
 "nbformat": 4,
 "nbformat_minor": 5
}
