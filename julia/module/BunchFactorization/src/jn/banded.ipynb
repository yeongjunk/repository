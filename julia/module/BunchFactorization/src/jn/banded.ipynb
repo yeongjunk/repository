{
 "cells": [
  {
   "cell_type": "code",
   "execution_count": 38,
   "id": "bdce5397",
   "metadata": {},
   "outputs": [],
   "source": [
    "using Revise\n",
    "using LinearAlgebra\n",
    "using Random\n",
    "using ProfileView\n",
    "using SparseArrays\n",
    "using Revise\n",
    "using RandomSkewMatrices\n",
    "using BandedMatrices\n",
    "using BunchFactorization"
   ]
  },
  {
   "cell_type": "code",
   "execution_count": 39,
   "id": "6958df8d",
   "metadata": {},
   "outputs": [
    {
     "data": {
      "text/plain": [
       "Bunch{Float64, UnitLowerTriangular{Float64, Matrix{Float64}}, Tridiagonal{Float64, Vector{Float64}}, Vector{Int64}}([1.0 0.0 … 0.0 0.0; 0.0 1.0 … 0.0 0.0; … ; 0.0 0.0 … 1.0 0.0; 0.0 0.0 … 1.2068772406721138 1.0], [0.0 0.18798680822751512 … 0.0 0.0; -0.18798680822751512 0.0 … 0.0 0.0; … ; 0.0 0.0 … 0.0 -0.0; 0.0 0.0 … 0.0 0.0], [1, 2, 3, 4, 5, 6, 7, 8, 9, 10, 11])"
      ]
     },
     "execution_count": 39,
     "metadata": {},
     "output_type": "execute_result"
    }
   ],
   "source": [
    "BLAS.set_num_threads(1)\n",
    "rng = MersenneTwister()\n",
    "N = 11\n",
    "A = Matrix(compact_chain(N, rng, l = 2))\n",
    "A_copy = copy(A)\n",
    "F  = bunch!(copy(A), 2, pivot = false)"
   ]
  },
  {
   "cell_type": "code",
   "execution_count": 44,
   "id": "bee1f610",
   "metadata": {},
   "outputs": [
    {
     "name": "stdout",
     "output_type": "stream",
     "text": [
      "  0.111565 seconds (16 allocations: 1.069 MiB)\n"
     ]
    },
    {
     "data": {
      "text/plain": [
       "Bunch{Float64, UnitLowerTriangular{Float64, Matrix{Float64}}, Tridiagonal{Float64, Vector{Float64}}, Vector{Int64}}([1.0 0.0 … 0.0 0.0; 0.0 1.0 … 0.0 0.0; … ; 0.0 0.0 … 1.0 0.0; 0.0 0.0 … 0.0 1.0], [0.0 -0.35774480183655477 … 0.0 0.0; 0.35774480183655477 0.0 … 0.0 0.0; … ; 0.0 0.0 … 0.0 -2.2329205662045752; 0.0 0.0 … 2.2329205662045752 0.0], [1, 2, 3, 4, 5, 6, 7, 8, 9, 10  …  19991, 19992, 19993, 19994, 19995, 19996, 19997, 19998, 19999, 20000])"
      ]
     },
     "execution_count": 44,
     "metadata": {},
     "output_type": "execute_result"
    }
   ],
   "source": [
    "N = 20000\n",
    "\n",
    "A = Matrix(compact_chain(N, rng, l = 2))\n",
    "A_copy = copy(A)\n",
    "@time F = bunch!(A_copy, 2, pivot = false)"
   ]
  },
  {
   "cell_type": "code",
   "execution_count": null,
   "id": "3e0ff588",
   "metadata": {},
   "outputs": [],
   "source": [
    "@time F = bunch!(A_copy, 2, pivot = false)"
   ]
  },
  {
   "cell_type": "code",
   "execution_count": null,
   "id": "a7cdefd2",
   "metadata": {},
   "outputs": [],
   "source": []
  }
 ],
 "metadata": {
  "kernelspec": {
   "display_name": "Julia 1.8.5",
   "language": "julia",
   "name": "julia-1.8"
  },
  "language_info": {
   "file_extension": ".jl",
   "mimetype": "application/julia",
   "name": "julia",
   "version": "1.8.5"
  }
 },
 "nbformat": 4,
 "nbformat_minor": 5
}
