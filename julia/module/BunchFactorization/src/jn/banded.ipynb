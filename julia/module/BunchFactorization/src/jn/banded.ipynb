{
 "cells": [
  {
   "cell_type": "code",
   "execution_count": 112,
   "id": "bdce5397",
   "metadata": {},
   "outputs": [],
   "source": [
    "using Revise\n",
    "using LinearAlgebra\n",
    "using Random\n",
    "using ProfileView\n",
    "using SparseArrays\n",
    "using Revise\n",
    "using RandomSkewMatrices\n",
    "using BandedMatrices\n",
    "using BenchmarkTools\n",
    "using BunchFactorization\n",
    "using MultiFloats"
   ]
  },
  {
   "cell_type": "code",
   "execution_count": 113,
   "id": "6958df8d",
   "metadata": {},
   "outputs": [
    {
     "data": {
      "text/plain": [
       "Bunch{Float64, UnitLowerTriangular{Float64, Matrix{Float64}}, Tridiagonal{Float64, Vector{Float64}}, Vector{Int64}}([1.0 0.0 … 0.0 0.0; 0.0 1.0 … 0.0 0.0; … ; 0.0 0.0 … 1.0 0.0; 0.0 0.0 … -4.461815479885429 1.0], [0.0 -0.4003938234203377 … 0.0 0.0; 0.4003938234203377 0.0 … 0.0 0.0; … ; 0.0 0.0 … 0.0 -0.0; 0.0 0.0 … 0.0 0.0], [1, 2, 3, 4, 5, 6, 7, 8, 9, 10, 11])"
      ]
     },
     "execution_count": 113,
     "metadata": {},
     "output_type": "execute_result"
    }
   ],
   "source": [
    "BLAS.set_num_threads(1)\n",
    "rng = MersenneTwister()\n",
    "N = 11\n",
    "A = Matrix(compact_chain(N, rng, l = 2))\n",
    "A_copy = copy(A)\n",
    "F  = bunch!(copy(A), 2, pivot = false)"
   ]
  },
  {
   "cell_type": "code",
   "execution_count": 119,
   "id": "bee1f610",
   "metadata": {},
   "outputs": [
    {
     "name": "stdout",
     "output_type": "stream",
     "text": [
      "  0.018934 seconds (20.76 k allocations: 13.212 MiB)\n"
     ]
    },
    {
     "data": {
      "text/plain": [
       "Bunch{Float64, UnitLowerTriangular{Float64, Matrix{Float64}}, Tridiagonal{Float64, Vector{Float64}}, Vector{Int64}}([1.0 0.0 … 0.0 0.0; 0.0 1.0 … 0.0 0.0; … ; -0.0 0.0 … 1.0 0.0; -0.0 0.0 … 0.0 1.0], [0.0 -0.4688518483083799 … 0.0 0.0; 0.4688518483083799 0.0 … 0.0 0.0; … ; 0.0 0.0 … 0.0 -0.0002118019526250645; 0.0 0.0 … 0.0002118019526250645 0.0], [1, 2, 5, 3, 7, 4, 6, 8, 10, 9  …  2992, 2994, 2995, 2993, 2997, 2996, 2999, 2998, 3000, 2928])"
      ]
     },
     "execution_count": 119,
     "metadata": {},
     "output_type": "execute_result"
    }
   ],
   "source": [
    "N = 3000\n",
    "F = Float64\n",
    "A = Matrix(F.(compact_chain(N, rng, l = 2)))\n",
    "A_copy = copy(A)\n",
    "@time F = bunch!(A_copy, 2, pivot = :partial)"
   ]
  },
  {
   "cell_type": "code",
   "execution_count": null,
   "id": "3e0ff588",
   "metadata": {},
   "outputs": [],
   "source": [
    "@time F = bunch!(A_copy, 2, pivot = false)"
   ]
  },
  {
   "cell_type": "code",
   "execution_count": 94,
   "id": "a7cdefd2",
   "metadata": {},
   "outputs": [
    {
     "data": {
      "text/plain": [
       "5.6e-5"
      ]
     },
     "execution_count": 94,
     "metadata": {},
     "output_type": "execute_result"
    }
   ],
   "source": [
    "56*1e-6"
   ]
  }
 ],
 "metadata": {
  "kernelspec": {
   "display_name": "Julia 1.8.5",
   "language": "julia",
   "name": "julia-1.8"
  },
  "language_info": {
   "file_extension": ".jl",
   "mimetype": "application/julia",
   "name": "julia",
   "version": "1.8.5"
  }
 },
 "nbformat": 4,
 "nbformat_minor": 5
}
