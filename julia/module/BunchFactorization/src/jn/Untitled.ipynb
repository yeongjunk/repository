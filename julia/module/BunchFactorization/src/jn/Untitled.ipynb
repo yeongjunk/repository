{
 "cells": [
  {
   "cell_type": "code",
   "execution_count": 1,
   "id": "bdce5397",
   "metadata": {},
   "outputs": [
    {
     "name": "stderr",
     "output_type": "stream",
     "text": [
      "\u001b[36m\u001b[1m[ \u001b[22m\u001b[39m\u001b[36m\u001b[1mInfo: \u001b[22m\u001b[39mPrecompiling BunchFactorization [top-level]\n"
     ]
    }
   ],
   "source": [
    "using Revise\n",
    "using BunchFactorization\n",
    "using Revise\n",
    "using LinearAlgebra\n",
    "using Random\n",
    "using ProfileView\n",
    "using SparseArrays"
   ]
  },
  {
   "cell_type": "code",
   "execution_count": 19,
   "id": "6958df8d",
   "metadata": {},
   "outputs": [
    {
     "data": {
      "text/plain": [
       "Bunch{Float64, UnitLowerTriangular{Float64, Matrix{Float64}}, Tridiagonal{Float64, Vector{Float64}}, Vector{Int64}}([1.0 0.0 … 0.0 0.0; 0.0 1.0 … 0.0 0.0; … ; 0.02226940391244871 -0.6133569800322923 … 1.0 0.0; 0.14327060938985503 -0.35823171241261326 … 0.0 1.0], [0.0 0.9935186622890639 … 0.0 0.0; -0.9935186622890639 0.0 … 0.0 0.0; … ; 0.0 0.0 … 0.0 5.287021713895382; 0.0 0.0 … -5.287021713895382 0.0], [2218, 2, 293, 4, 5, 2313, 7, 2938, 9, 3  …  2125, 687, 2901, 1168, 2495, 2977, 247, 1455, 1175, 2669])"
      ]
     },
     "execution_count": 19,
     "metadata": {},
     "output_type": "execute_result"
    }
   ],
   "source": [
    "BLAS.set_num_threads(1)\n",
    "rng = MersenneTwister()\n",
    "N = 3000\n",
    "A = rand(rng, N, N)\n",
    "A = A-A'\n",
    "A_copy = copy(A)\n",
    "F  = bunch!(copy(A), pivot = true)\n"
   ]
  },
  {
   "cell_type": "code",
   "execution_count": 20,
   "id": "bbcc3795",
   "metadata": {},
   "outputs": [
    {
     "name": "stdout",
     "output_type": "stream",
     "text": [
      "  0.773134 seconds (14 allocations: 117.578 KiB)\n"
     ]
    },
    {
     "data": {
      "text/plain": [
       "Bunch{Float64, UnitLowerTriangular{Float64, Matrix{Float64}}, Tridiagonal{Float64, Vector{Float64}}, Vector{Int64}}([1.0 0.0 … 0.0 0.0; 0.0 1.0 … 0.0 0.0; … ; 0.02226940391244871 -0.6133569800322923 … 1.0 0.0; 0.14327060938985503 -0.35823171241261326 … 0.0 1.0], [0.0 0.9935186622890639 … 0.0 0.0; -0.9935186622890639 0.0 … 0.0 0.0; … ; 0.0 0.0 … 0.0 5.287021713895382; 0.0 0.0 … -5.287021713895382 0.0], [2218, 2, 293, 4, 5, 2313, 7, 2938, 9, 3  …  2125, 687, 2901, 1168, 2495, 2977, 247, 1455, 1175, 2669])"
      ]
     },
     "execution_count": 20,
     "metadata": {},
     "output_type": "execute_result"
    }
   ],
   "source": [
    "@time bunch!(A_copy, pivot = true)"
   ]
  },
  {
   "cell_type": "code",
   "execution_count": 8,
   "id": "bee1f610",
   "metadata": {},
   "outputs": [
    {
     "name": "stdout",
     "output_type": "stream",
     "text": [
      "228.046471 seconds (14 allocations: 781.641 KiB)\n"
     ]
    },
    {
     "data": {
      "text/plain": [
       "Bunch{Float64, UnitLowerTriangular{Float64, Matrix{Float64}}, Tridiagonal{Float64, Vector{Float64}}, Vector{Int64}}([1.0 0.0 … 0.0 0.0; 0.0 1.0 … 0.0 0.0; … ; 0.765130002324289 0.18129635612119196 … 1.0 0.0; 0.17203644193876552 0.5388930394714951 … 0.0 1.0], [0.0 0.9980246594345612 … 0.0 0.0; -0.9980246594345612 0.0 … 0.0 0.0; … ; 0.0 0.0 … 0.0 -3.1699019129184833; 0.0 0.0 … 3.1699019129184833 0.0], [1, 16081, 3, 4671, 5, 9584, 12450, 8, 18979, 10  …  18804, 19552, 18443, 15737, 17236, 13256, 19291, 19136, 19267, 18327])"
      ]
     },
     "execution_count": 8,
     "metadata": {},
     "output_type": "execute_result"
    }
   ],
   "source": [
    "BLAS.set_num_threads(1)\n",
    "rng = MersenneTwister()\n",
    "N = 20000\n",
    "A = rand(rng, N, N)\n",
    "A = A-A'\n",
    "@time F  = bunch!(A, pivot = true)"
   ]
  },
  {
   "cell_type": "code",
   "execution_count": 14,
   "id": "c5857222",
   "metadata": {},
   "outputs": [
    {
     "data": {
      "text/plain": [
       "191.66666666666666"
      ]
     },
     "execution_count": 14,
     "metadata": {},
     "output_type": "execute_result"
    }
   ],
   "source": [
    "230*3000/3600"
   ]
  }
 ],
 "metadata": {
  "kernelspec": {
   "display_name": "Julia 1.8.5",
   "language": "julia",
   "name": "julia-1.8"
  },
  "language_info": {
   "file_extension": ".jl",
   "mimetype": "application/julia",
   "name": "julia",
   "version": "1.8.5"
  }
 },
 "nbformat": 4,
 "nbformat_minor": 5
}
