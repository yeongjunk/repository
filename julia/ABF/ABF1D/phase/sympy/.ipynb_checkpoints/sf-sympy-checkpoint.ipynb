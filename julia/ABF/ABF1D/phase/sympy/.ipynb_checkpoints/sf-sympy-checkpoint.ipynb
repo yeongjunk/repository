{
 "cells": [
  {
   "cell_type": "code",
   "execution_count": 1,
   "id": "b7bb1e8f",
   "metadata": {},
   "outputs": [],
   "source": [
    "using SymPy\n",
    "using Lattice\n",
    "using LinearAlgebra\n",
    "using SparseArrays\n",
    "using ABF\n",
    "using LaTeXStrings\n",
    "import_from(sympy)"
   ]
  },
  {
   "cell_type": "code",
   "execution_count": 1,
   "id": "1a847202",
   "metadata": {},
   "outputs": [
    {
     "data": {
      "text/plain": [
       "project (generic function with 1 method)"
      ]
     },
     "execution_count": 1,
     "metadata": {},
     "output_type": "execute_result"
    }
   ],
   "source": [
    "function spin_copy(H)\n",
    "    H_s = zeros(eltype(H), 2size(H, 1), 2size(H, 2))\n",
    "    for i in 1:size(H, 1), j in 1:size(H, 1)\n",
    "        H_s[2i-1:2i, 2j-1:2j] = H[i,j]*I(2)\n",
    "    end\n",
    "    return H_s\n",
    "end\n",
    "\n",
    "function disorder_soc(ltc, H)\n",
    "    D = spzeros(eltype(H), size(H, 1), size(H, 2))\n",
    "    @assert ltc.U == 4\n",
    "    m = 1\n",
    "    t_am_bm =  H[index(ltc, (m, 1)), index(ltc, (m,   3))]\n",
    "    t_am_amp = H[index(ltc, (m, 1)), index(ltc, (m+1, 1))]\n",
    "    t_am_bmp = H[index(ltc, (m, 1)), index(ltc, (m+1, 3))]\n",
    "    t_bm_amp = H[index(ltc, (m, 3)), index(ltc, (m+1, 1))]\n",
    "    t_bm_bmp = H[index(ltc, (m, 3)), index(ltc, (m+1, 3))]\n",
    "    \n",
    "    for m in 1:ltc.N\n",
    "        γ = [symbols(\"phi_$(m).$(i)\", real = true) for i in 1:5]\n",
    "\n",
    "        a_m = [index(ltc, (m, 1)), index(ltc, (m, 2))]\n",
    "        b_m = [index(ltc, (m, 3)), index(ltc, (m, 4))]\n",
    "        a_mp = [index(ltc, (m+1, 1)), index(ltc, (m+1, 2))]\n",
    "        b_mp = [index(ltc, (m+1, 3)), index(ltc, (m+1, 4))]\n",
    "\n",
    "        D[a_m, b_m]  = t_am_bm*γ[1]*im\n",
    "        D[a_m, a_mp] = t_am_amp*γ[2]*im\n",
    "        D[a_m, b_mp] = t_am_bmp*γ[3]*im\n",
    "        D[b_m, a_mp] = t_bm_amp*γ[4]*im\n",
    "        D[b_m, b_mp] = t_bm_bmp*γ[5]*im\n",
    "        \n",
    "        D[b_m, a_m] = D[a_m, b_m]'\n",
    "        D[a_mp, a_m]= D[a_m, a_mp]'\n",
    "        D[b_mp, a_m]= D[a_m, b_mp]'\n",
    "        D[a_mp, b_m]= D[b_m, a_mp]'\n",
    "        D[b_mp, b_m]= D[b_m, b_mp]'\n",
    "    end\n",
    "    return D\n",
    "end"
   ]
  },
  {
   "cell_type": "code",
   "execution_count": 18,
   "id": "a5286034",
   "metadata": {},
   "outputs": [],
   "source": [
    "@vars θ real = true\n",
    "ltc = Lattice1D(10, 4)\n",
    "H, U = ham_fe(ltc, Sym(-1), Sym(1), symbols(\"θ\", real = true))\n",
    "D_soc = disorder_soc(ltc, H);"
   ]
  },
  {
   "cell_type": "code",
   "execution_count": 19,
   "id": "5d76690a",
   "metadata": {},
   "outputs": [
    {
     "data": {
      "text/plain": [
       "20×20 Matrix{Bool}:\n",
       " 0  1  0  1  0  1  0  0  0  0  0  0  0  0  0  0  0  1  0  1\n",
       " 1  0  1  0  1  0  0  0  0  0  0  0  0  0  0  0  1  0  1  0\n",
       " 0  1  0  1  0  1  0  1  0  0  0  0  0  0  0  0  0  0  0  1\n",
       " 1  0  1  0  1  0  1  0  0  0  0  0  0  0  0  0  0  0  1  0\n",
       " 0  1  0  1  0  1  0  1  0  1  0  0  0  0  0  0  0  0  0  0\n",
       " 1  0  1  0  1  0  1  0  1  0  0  0  0  0  0  0  0  0  0  0\n",
       " 0  0  0  1  0  1  0  1  0  1  0  1  0  0  0  0  0  0  0  0\n",
       " 0  0  1  0  1  0  1  0  1  0  1  0  0  0  0  0  0  0  0  0\n",
       " 0  0  0  0  0  1  0  1  0  1  0  1  0  1  0  0  0  0  0  0\n",
       " 0  0  0  0  1  0  1  0  1  0  1  0  1  0  0  0  0  0  0  0\n",
       " 0  0  0  0  0  0  0  1  0  1  0  1  0  1  0  1  0  0  0  0\n",
       " 0  0  0  0  0  0  1  0  1  0  1  0  1  0  1  0  0  0  0  0\n",
       " 0  0  0  0  0  0  0  0  0  1  0  1  0  1  0  1  0  1  0  0\n",
       " 0  0  0  0  0  0  0  0  1  0  1  0  1  0  1  0  1  0  0  0\n",
       " 0  0  0  0  0  0  0  0  0  0  0  1  0  1  0  1  0  1  0  1\n",
       " 0  0  0  0  0  0  0  0  0  0  1  0  1  0  1  0  1  0  1  0\n",
       " 0  1  0  0  0  0  0  0  0  0  0  0  0  1  0  1  0  1  0  1\n",
       " 1  0  0  0  0  0  0  0  0  0  0  0  1  0  1  0  1  0  1  0\n",
       " 0  1  0  1  0  0  0  0  0  0  0  0  0  0  0  1  0  1  0  1\n",
       " 1  0  1  0  0  0  0  0  0  0  0  0  0  0  1  0  1  0  1  0"
      ]
     },
     "execution_count": 19,
     "metadata": {},
     "output_type": "execute_result"
    }
   ],
   "source": [
    "H_sf = project(U'*D_soc*U);\n",
    "\n",
    "H_sf_nz = SparseMatrixCSC{Bool, Int64}(iszero.(H_sf) .!= 1)\n",
    "Matrix(H_sf_nz)"
   ]
  },
  {
   "cell_type": "code",
   "execution_count": 20,
   "id": "ebd80434",
   "metadata": {},
   "outputs": [
    {
     "data": {
      "text/latex": [
       "$2 \\beta_{4.2} e^{i \\gamma_{4.2}} \\sin^{4}{\\left(θ \\right)} \\cos^{4}{\\left(θ \\right)} - 2 \\beta_{4.3} e^{i \\gamma_{4.3}} \\sin^{4}{\\left(θ \\right)} \\cos^{4}{\\left(θ \\right)} + 2 \\beta_{4.4} e^{i \\gamma_{4.4}} \\sin^{2}{\\left(θ \\right)} \\cos^{6}{\\left(θ \\right)} - 2 \\beta_{4.5} e^{i \\gamma_{4.5}} \\sin^{2}{\\left(θ \\right)} \\cos^{6}{\\left(θ \\right)} - 2 \\beta_{5.1} e^{i \\gamma_{5.1}} \\sin^{6}{\\left(θ \\right)} \\cos^{2}{\\left(θ \\right)} + 2 \\beta_{5.1} e^{i \\gamma_{5.1}} \\sin^{2}{\\left(θ \\right)} \\cos^{6}{\\left(θ \\right)} + 2 \\beta_{5.2} e^{i \\gamma_{5.2}} \\sin^{4}{\\left(θ \\right)} \\cos^{4}{\\left(θ \\right)} + 2 \\beta_{5.3} e^{i \\gamma_{5.3}} \\sin^{6}{\\left(θ \\right)} \\cos^{2}{\\left(θ \\right)} - 2 \\beta_{5.4} e^{i \\gamma_{5.4}} \\sin^{4}{\\left(θ \\right)} \\cos^{4}{\\left(θ \\right)} - 2 \\beta_{5.5} e^{i \\gamma_{5.5}} \\sin^{6}{\\left(θ \\right)} \\cos^{2}{\\left(θ \\right)}$"
      ],
      "text/plain": [
       "         ⅈ⋅γ_4.2    4       4               ⅈ⋅γ_4.3    4       4              \n",
       "2⋅β_4.2⋅ℯ       ⋅sin (θ)⋅cos (θ) - 2⋅β_4.3⋅ℯ       ⋅sin (θ)⋅cos (θ) + 2⋅β_4.4⋅\n",
       "\n",
       " ⅈ⋅γ_4.4    2       6               ⅈ⋅γ_4.5    2       6               ⅈ⋅γ_5.1\n",
       "ℯ       ⋅sin (θ)⋅cos (θ) - 2⋅β_4.5⋅ℯ       ⋅sin (θ)⋅cos (θ) - 2⋅β_5.1⋅ℯ       \n",
       "\n",
       "    6       2               ⅈ⋅γ_5.1    2       6               ⅈ⋅γ_5.2    4   \n",
       "⋅sin (θ)⋅cos (θ) + 2⋅β_5.1⋅ℯ       ⋅sin (θ)⋅cos (θ) + 2⋅β_5.2⋅ℯ       ⋅sin (θ)\n",
       "\n",
       "    4               ⅈ⋅γ_5.3    6       2               ⅈ⋅γ_5.4    4       4   \n",
       "⋅cos (θ) + 2⋅β_5.3⋅ℯ       ⋅sin (θ)⋅cos (θ) - 2⋅β_5.4⋅ℯ       ⋅sin (θ)⋅cos (θ)\n",
       "\n",
       "            ⅈ⋅γ_5.5    6       2   \n",
       " - 2⋅β_5.5⋅ℯ       ⋅sin (θ)⋅cos (θ)"
      ]
     },
     "execution_count": 20,
     "metadata": {},
     "output_type": "execute_result"
    }
   ],
   "source": [
    "expand(H_sf[9, 12])"
   ]
  },
  {
   "cell_type": "code",
   "execution_count": 6,
   "id": "cc6fcd86",
   "metadata": {},
   "outputs": [
    {
     "data": {
      "text/latex": [
       "$2 \\left(β_{5.2} e^{i γ_{5.2}} - β_{5.3} e^{i γ_{5.3}} - β_{5.4} e^{i γ_{5.4}} + β_{5.5} e^{i γ_{5.5}}\\right) \\sin^{4}{\\left(θ \\right)} \\cos^{4}{\\left(θ \\right)}$"
      ],
      "text/plain": [
       "  ⎛       ⅈ⋅γ_5.2          ⅈ⋅γ_5.3          ⅈ⋅γ_5.4          ⅈ⋅γ_5.5⎞    4    \n",
       "2⋅⎝β_5.2⋅ℯ        - β_5.3⋅ℯ        - β_5.4⋅ℯ        + β_5.5⋅ℯ       ⎠⋅sin (θ)⋅\n",
       "\n",
       "   4   \n",
       "cos (θ)"
      ]
     },
     "execution_count": 6,
     "metadata": {},
     "output_type": "execute_result"
    }
   ],
   "source": [
    "trigsimp(H_sf[9, 14])"
   ]
  },
  {
   "cell_type": "code",
   "execution_count": null,
   "id": "adaf676b",
   "metadata": {},
   "outputs": [],
   "source": []
  }
 ],
 "metadata": {
  "kernelspec": {
   "display_name": "Julia 1.7.2",
   "language": "julia",
   "name": "julia-1.7"
  },
  "language_info": {
   "file_extension": ".jl",
   "mimetype": "application/julia",
   "name": "julia",
   "version": "1.7.2"
  }
 },
 "nbformat": 4,
 "nbformat_minor": 5
}
