{
 "cells": [
  {
   "cell_type": "code",
   "execution_count": 1,
   "id": "b7bb1e8f",
   "metadata": {},
   "outputs": [],
   "source": [
    "using SymPy\n",
    "using Lattice\n",
    "using LinearAlgebra\n",
    "using SparseArrays\n",
    "using ABF\n",
    "using LaTeXStrings\n",
    "import_from(sympy)"
   ]
  },
  {
   "cell_type": "code",
   "execution_count": 2,
   "id": "1a847202",
   "metadata": {},
   "outputs": [
    {
     "data": {
      "text/plain": [
       "disorder_soc (generic function with 1 method)"
      ]
     },
     "execution_count": 2,
     "metadata": {},
     "output_type": "execute_result"
    }
   ],
   "source": [
    "function spin_copy(H)\n",
    "    H_s = zeros(eltype(H), 2size(H, 1), 2size(H, 2))\n",
    "    for i in 1:size(H, 1), j in 1:size(H, 1)\n",
    "        H_s[2i-1:2i, 2j-1:2j] = H[i,j]*I(2)\n",
    "    end\n",
    "    return H_s\n",
    "end\n",
    "\n",
    "function disorder_soc(ltc, H)\n",
    "    D = spzeros(eltype(H), size(H, 1), size(H, 2))\n",
    "    @assert ltc.U == 2\n",
    "    m = 1\n",
    "    t_am_bm =  H[index(ltc, (m, 1)), index(ltc, (m,   2))]\n",
    "    t_am_amp = H[index(ltc, (m, 1)), index(ltc, (m+1, 1))]\n",
    "    t_am_bmp = H[index(ltc, (m, 1)), index(ltc, (m+1, 2))]\n",
    "    t_bm_amp = H[index(ltc, (m, 2)), index(ltc, (m+1, 1))]\n",
    "    t_bm_bmp = H[index(ltc, (m, 2)), index(ltc, (m+1, 2))]\n",
    "    \n",
    "    for m in 1:ltc.N\n",
    "        γ = [symbols(\"phi_$(m).$(i)\", real = true) for i in 1:5]\n",
    "\n",
    "        a_m = index(ltc, (m, 1))\n",
    "        b_m = index(ltc, (m, 2))\n",
    "        a_mp = index(ltc, (m+1, 1))\n",
    "        b_mp = index(ltc, (m+1, 2))\n",
    "\n",
    "        D[a_m, b_m]  = t_am_bm*γ[1]*im\n",
    "        D[a_m, a_mp] = t_am_amp*γ[2]*im\n",
    "        D[a_m, b_mp] = t_am_bmp*γ[3]*im\n",
    "        D[b_m, a_mp] = t_bm_amp*γ[4]*im\n",
    "        D[b_m, b_mp] = t_bm_bmp*γ[5]*im\n",
    "        \n",
    "        D[b_m, a_m] = D[a_m, b_m]'\n",
    "        D[a_mp, a_m]= D[a_m, a_mp]'\n",
    "        D[b_mp, a_m]= D[a_m, b_mp]'\n",
    "        D[a_mp, b_m]= D[b_m, a_mp]'\n",
    "        D[b_mp, b_m]= D[b_m, b_mp]'\n",
    "    end\n",
    "    return D\n",
    "end"
   ]
  },
  {
   "cell_type": "code",
   "execution_count": 3,
   "id": "a5286034",
   "metadata": {},
   "outputs": [],
   "source": [
    "@vars θ real = true\n",
    "ltc = Lattice1D(20, 2)\n",
    "H, U = ham_fe(ltc, Sym(-1), Sym(1), symbols(\"θ\", real = true), pirad = false)\n",
    "D = disorder_soc(ltc, H);"
   ]
  },
  {
   "cell_type": "code",
   "execution_count": 4,
   "id": "5d76690a",
   "metadata": {},
   "outputs": [
    {
     "data": {
      "text/plain": [
       "20×20 Matrix{Bool}:\n",
       " 1  1  1  0  0  0  0  0  0  0  0  0  0  0  0  0  0  0  1  1\n",
       " 1  1  1  1  0  0  0  0  0  0  0  0  0  0  0  0  0  0  0  1\n",
       " 1  1  1  1  1  0  0  0  0  0  0  0  0  0  0  0  0  0  0  0\n",
       " 0  1  1  1  1  1  0  0  0  0  0  0  0  0  0  0  0  0  0  0\n",
       " 0  0  1  1  1  1  1  0  0  0  0  0  0  0  0  0  0  0  0  0\n",
       " 0  0  0  1  1  1  1  1  0  0  0  0  0  0  0  0  0  0  0  0\n",
       " 0  0  0  0  1  1  1  1  1  0  0  0  0  0  0  0  0  0  0  0\n",
       " 0  0  0  0  0  1  1  1  1  1  0  0  0  0  0  0  0  0  0  0\n",
       " 0  0  0  0  0  0  1  1  1  1  1  0  0  0  0  0  0  0  0  0\n",
       " 0  0  0  0  0  0  0  1  1  1  1  1  0  0  0  0  0  0  0  0\n",
       " 0  0  0  0  0  0  0  0  1  1  1  1  1  0  0  0  0  0  0  0\n",
       " 0  0  0  0  0  0  0  0  0  1  1  1  1  1  0  0  0  0  0  0\n",
       " 0  0  0  0  0  0  0  0  0  0  1  1  1  1  1  0  0  0  0  0\n",
       " 0  0  0  0  0  0  0  0  0  0  0  1  1  1  1  1  0  0  0  0\n",
       " 0  0  0  0  0  0  0  0  0  0  0  0  1  1  1  1  1  0  0  0\n",
       " 0  0  0  0  0  0  0  0  0  0  0  0  0  1  1  1  1  1  0  0\n",
       " 0  0  0  0  0  0  0  0  0  0  0  0  0  0  1  1  1  1  1  0\n",
       " 0  0  0  0  0  0  0  0  0  0  0  0  0  0  0  1  1  1  1  1\n",
       " 1  0  0  0  0  0  0  0  0  0  0  0  0  0  0  0  1  1  1  1\n",
       " 1  1  0  0  0  0  0  0  0  0  0  0  0  0  0  0  0  1  1  1"
      ]
     },
     "execution_count": 4,
     "metadata": {},
     "output_type": "execute_result"
    }
   ],
   "source": [
    "H_sf = project(U'*D*U);\n",
    "\n",
    "H_sf_nz = SparseMatrixCSC{Bool, Int64}(iszero.(H_sf) .!= 1)\n",
    "Matrix(H_sf_nz)"
   ]
  },
  {
   "cell_type": "code",
   "execution_count": 5,
   "id": "ebd80434",
   "metadata": {},
   "outputs": [
    {
     "data": {
      "text/latex": [
       "$2 i \\phi_{8.2} \\sin^{4}{\\left(θ \\right)} \\cos^{4}{\\left(θ \\right)} - 2 i \\phi_{8.3} \\sin^{4}{\\left(θ \\right)} \\cos^{4}{\\left(θ \\right)} + 2 i \\phi_{8.4} \\sin^{2}{\\left(θ \\right)} \\cos^{6}{\\left(θ \\right)} - 2 i \\phi_{8.5} \\sin^{2}{\\left(θ \\right)} \\cos^{6}{\\left(θ \\right)} - 2 i \\phi_{9.1} \\sin^{6}{\\left(θ \\right)} \\cos^{2}{\\left(θ \\right)} + 2 i \\phi_{9.1} \\sin^{2}{\\left(θ \\right)} \\cos^{6}{\\left(θ \\right)} + 2 i \\phi_{9.2} \\sin^{4}{\\left(θ \\right)} \\cos^{4}{\\left(θ \\right)} + 2 i \\phi_{9.3} \\sin^{6}{\\left(θ \\right)} \\cos^{2}{\\left(θ \\right)} - 2 i \\phi_{9.4} \\sin^{4}{\\left(θ \\right)} \\cos^{4}{\\left(θ \\right)} - 2 i \\phi_{9.5} \\sin^{6}{\\left(θ \\right)} \\cos^{2}{\\left(θ \\right)}$"
      ],
      "text/plain": [
       "             4       4                   4       4                   2       6\n",
       "2⋅ⅈ⋅φ_8.2⋅sin (θ)⋅cos (θ) - 2⋅ⅈ⋅φ_8.3⋅sin (θ)⋅cos (θ) + 2⋅ⅈ⋅φ_8.4⋅sin (θ)⋅cos \n",
       "\n",
       "                   2       6                   6       2                   2  \n",
       "(θ) - 2⋅ⅈ⋅φ_8.5⋅sin (θ)⋅cos (θ) - 2⋅ⅈ⋅φ_9.1⋅sin (θ)⋅cos (θ) + 2⋅ⅈ⋅φ_9.1⋅sin (θ\n",
       "\n",
       "     6                   4       4                   6       2                \n",
       ")⋅cos (θ) + 2⋅ⅈ⋅φ_9.2⋅sin (θ)⋅cos (θ) + 2⋅ⅈ⋅φ_9.3⋅sin (θ)⋅cos (θ) - 2⋅ⅈ⋅φ_9.4⋅\n",
       "\n",
       "   4       4                   6       2   \n",
       "sin (θ)⋅cos (θ) - 2⋅ⅈ⋅φ_9.5⋅sin (θ)⋅cos (θ)"
      ]
     },
     "execution_count": 5,
     "metadata": {},
     "output_type": "execute_result"
    }
   ],
   "source": [
    "#Nearest neighbor hopping\n",
    "expand(H_sf[9, 10])"
   ]
  },
  {
   "cell_type": "code",
   "execution_count": 6,
   "id": "cc6fcd86",
   "metadata": {},
   "outputs": [
    {
     "data": {
      "text/latex": [
       "$2 i \\left(\\phi_{9.2} - \\phi_{9.3} - \\phi_{9.4} + \\phi_{9.5}\\right) \\sin^{4}{\\left(θ \\right)} \\cos^{4}{\\left(θ \\right)}$"
      ],
      "text/plain": [
       "                                       4       4   \n",
       "2⋅ⅈ⋅(φ_9.2 - φ_9.3 - φ_9.4 + φ_9.5)⋅sin (θ)⋅cos (θ)"
      ]
     },
     "execution_count": 6,
     "metadata": {},
     "output_type": "execute_result"
    }
   ],
   "source": [
    "# Next nearest neighbor hopping\n",
    "trigsimp(H_sf[9, 11])"
   ]
  },
  {
   "cell_type": "code",
   "execution_count": null,
   "id": "eec7fcc0",
   "metadata": {},
   "outputs": [],
   "source": []
  }
 ],
 "metadata": {
  "kernelspec": {
   "display_name": "Julia 1.7.2",
   "language": "julia",
   "name": "julia-1.7"
  },
  "language_info": {
   "file_extension": ".jl",
   "mimetype": "application/julia",
   "name": "julia",
   "version": "1.7.2"
  }
 },
 "nbformat": 4,
 "nbformat_minor": 5
}
