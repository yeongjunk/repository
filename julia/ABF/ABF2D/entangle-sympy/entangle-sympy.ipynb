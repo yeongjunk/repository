{
 "cells": [
  {
   "cell_type": "code",
   "execution_count": 2,
   "id": "2005c72d",
   "metadata": {},
   "outputs": [
    {
     "name": "stderr",
     "output_type": "stream",
     "text": [
      "┌ Info: Precompiling ABF [top-level]\n",
      "└ @ Base loading.jl:1423\n"
     ]
    }
   ],
   "source": [
    "using ABF\n",
    "using Lattice\n",
    "using SymPy"
   ]
  },
  {
   "cell_type": "code",
   "execution_count": 3,
   "id": "7154d62f",
   "metadata": {},
   "outputs": [
    {
     "data": {
      "text/plain": [
       "(θ,)"
      ]
     },
     "execution_count": 3,
     "metadata": {},
     "output_type": "execute_result"
    }
   ],
   "source": [
    "@vars θ real = true"
   ]
  },
  {
   "cell_type": "code",
   "execution_count": 4,
   "id": "1a729b07",
   "metadata": {},
   "outputs": [
    {
     "data": {
      "text/plain": [
       "Lattice2D{Int64}(10, 10, 2)"
      ]
     },
     "execution_count": 4,
     "metadata": {},
     "output_type": "execute_result"
    }
   ],
   "source": [
    "L = 10\n",
    "ltc = Lattice2D(L, L, 2)"
   ]
  },
  {
   "cell_type": "code",
   "execution_count": 19,
   "id": "9e4ae596",
   "metadata": {},
   "outputs": [],
   "source": [
    "H, U = ham_fe(ltc, Sym(-1), Sym(1), θ; pirad = false);"
   ]
  },
  {
   "cell_type": "markdown",
   "id": "50a27a2c",
   "metadata": {},
   "source": [
    "$\\langle m,n |H| m,n \\rangle$"
   ]
  },
  {
   "cell_type": "code",
   "execution_count": 20,
   "id": "e86b218e",
   "metadata": {},
   "outputs": [
    {
     "data": {
      "text/latex": [
       "$\\left[ \\begin{array}{rr}\\sin^{6}{\\left(θ \\right)} - 3 \\sin^{4}{\\left(θ \\right)} \\cos^{2}{\\left(θ \\right)} + 3 \\sin^{2}{\\left(θ \\right)} \\cos^{4}{\\left(θ \\right)} - \\cos^{6}{\\left(θ \\right)}&2 \\sin^{5}{\\left(θ \\right)} \\cos{\\left(θ \\right)} - 4 \\sin^{3}{\\left(θ \\right)} \\cos^{3}{\\left(θ \\right)} + 2 \\sin{\\left(θ \\right)} \\cos^{5}{\\left(θ \\right)}\\\\2 \\sin^{5}{\\left(θ \\right)} \\cos{\\left(θ \\right)} - 4 \\sin^{3}{\\left(θ \\right)} \\cos^{3}{\\left(θ \\right)} + 2 \\sin{\\left(θ \\right)} \\cos^{5}{\\left(θ \\right)}&- \\sin^{6}{\\left(θ \\right)} + 3 \\sin^{4}{\\left(θ \\right)} \\cos^{2}{\\left(θ \\right)} - 3 \\sin^{2}{\\left(θ \\right)} \\cos^{4}{\\left(θ \\right)} + \\cos^{6}{\\left(θ \\right)}\\end{array}\\right]$\n"
      ],
      "text/plain": [
       "2×2 SparseArrays.SparseMatrixCSC{Sym, Int64} with 4 stored entries:\n",
       " sin(θ)^6 - 3*sin(θ)^4*cos(θ)^2 + 3*sin(θ)^2*cos(θ)^4 - cos(θ)^6  …       2*sin(θ)^5*cos(θ) - 4*sin(θ)^3*cos(θ)^3 + 2*sin(θ)*cos(θ)^5\n",
       "     2*sin(θ)^5*cos(θ) - 4*sin(θ)^3*cos(θ)^3 + 2*sin(θ)*cos(θ)^5     -sin(θ)^6 + 3*sin(θ)^4*cos(θ)^2 - 3*sin(θ)^2*cos(θ)^4 + cos(θ)^6"
      ]
     },
     "execution_count": 20,
     "metadata": {},
     "output_type": "execute_result"
    }
   ],
   "source": [
    "#(m,n) to (m,n)\n",
    "m = 5; n = 5\n",
    "idx1 = [index(ltc, (m, n, 1)), index(ltc, (m, n, 2))]\n",
    "idx2 = [index(ltc, (m, n, 1)), index(ltc, (m, n, 2))]\n",
    "\n",
    "H[idx1,idx2]"
   ]
  },
  {
   "cell_type": "markdown",
   "id": "066108b9",
   "metadata": {},
   "source": [
    "$\\langle m,n |H| m+1,n \\rangle$"
   ]
  },
  {
   "cell_type": "code",
   "execution_count": 21,
   "id": "6893c619",
   "metadata": {},
   "outputs": [
    {
     "data": {
      "text/latex": [
       "$\\left[ \\begin{array}{rr}- 2 \\sin^{4}{\\left(θ \\right)} \\cos^{2}{\\left(θ \\right)} + 2 \\sin^{2}{\\left(θ \\right)} \\cos^{4}{\\left(θ \\right)}&2 \\sin^{5}{\\left(θ \\right)} \\cos{\\left(θ \\right)} - 2 \\sin^{3}{\\left(θ \\right)} \\cos^{3}{\\left(θ \\right)}\\\\- 2 \\sin^{3}{\\left(θ \\right)} \\cos^{3}{\\left(θ \\right)} + 2 \\sin{\\left(θ \\right)} \\cos^{5}{\\left(θ \\right)}&2 \\sin^{4}{\\left(θ \\right)} \\cos^{2}{\\left(θ \\right)} - 2 \\sin^{2}{\\left(θ \\right)} \\cos^{4}{\\left(θ \\right)}\\end{array}\\right]$\n"
      ],
      "text/plain": [
       "2×2 SparseArrays.SparseMatrixCSC{Sym, Int64} with 4 stored entries:\n",
       " -2*sin(θ)^4*cos(θ)^2 + 2*sin(θ)^2*cos(θ)^4  …    2*sin(θ)^5*cos(θ) - 2*sin(θ)^3*cos(θ)^3\n",
       "   -2*sin(θ)^3*cos(θ)^3 + 2*sin(θ)*cos(θ)^5     2*sin(θ)^4*cos(θ)^2 - 2*sin(θ)^2*cos(θ)^4"
      ]
     },
     "execution_count": 21,
     "metadata": {},
     "output_type": "execute_result"
    }
   ],
   "source": [
    "#(m,n) to (m+1,n)\n",
    "idx1 = [index(ltc, (m, n, 1)), index(ltc, (m, n, 2))]\n",
    "idx2 = [index(ltc, (m+1, n, 1)), index(ltc, (m+1, n, 2))]\n",
    "\n",
    "H[idx1,idx2]"
   ]
  },
  {
   "cell_type": "markdown",
   "id": "d69f60a9",
   "metadata": {},
   "source": [
    "$\\langle m,n |H| m,n+1 \\rangle$"
   ]
  },
  {
   "cell_type": "code",
   "execution_count": 22,
   "id": "66fa24f1",
   "metadata": {},
   "outputs": [
    {
     "data": {
      "text/latex": [
       "$\\left[ \\begin{array}{rr}- 2 \\sin^{4}{\\left(θ \\right)} \\cos^{2}{\\left(θ \\right)} + 2 \\sin^{2}{\\left(θ \\right)} \\cos^{4}{\\left(θ \\right)}&- 4 \\sin^{3}{\\left(θ \\right)} \\cos^{3}{\\left(θ \\right)}\\\\- 4 \\sin^{3}{\\left(θ \\right)} \\cos^{3}{\\left(θ \\right)}&2 \\sin^{4}{\\left(θ \\right)} \\cos^{2}{\\left(θ \\right)} - 2 \\sin^{2}{\\left(θ \\right)} \\cos^{4}{\\left(θ \\right)}\\end{array}\\right]$\n"
      ],
      "text/plain": [
       "2×2 SparseArrays.SparseMatrixCSC{Sym, Int64} with 4 stored entries:\n",
       " -2*sin(θ)^4*cos(θ)^2 + 2*sin(θ)^2*cos(θ)^4  …                       -4*sin(θ)^3*cos(θ)^3\n",
       "                       -4*sin(θ)^3*cos(θ)^3     2*sin(θ)^4*cos(θ)^2 - 2*sin(θ)^2*cos(θ)^4"
      ]
     },
     "execution_count": 22,
     "metadata": {},
     "output_type": "execute_result"
    }
   ],
   "source": [
    "#(m,n) to (m,n+1)\n",
    "idx1 = [index(ltc, (m, n, 1)), index(ltc, (m, n, 2))]\n",
    "idx2 = [index(ltc, (m, n+1, 1)), index(ltc, (m, n+1, 2))]\n",
    "\n",
    "H[idx1,idx2]"
   ]
  },
  {
   "cell_type": "markdown",
   "id": "0ccaf4d9",
   "metadata": {},
   "source": [
    "$\\langle m,n |H| m-1,n+1 \\rangle$"
   ]
  },
  {
   "cell_type": "code",
   "execution_count": 23,
   "id": "e730e1ba",
   "metadata": {},
   "outputs": [
    {
     "data": {
      "text/latex": [
       "$\\left[ \\begin{array}{rr}- 2 \\sin^{4}{\\left(θ \\right)} \\cos^{2}{\\left(θ \\right)}&- 2 \\sin^{3}{\\left(θ \\right)} \\cos^{3}{\\left(θ \\right)}\\\\2 \\sin^{5}{\\left(θ \\right)} \\cos{\\left(θ \\right)}&2 \\sin^{4}{\\left(θ \\right)} \\cos^{2}{\\left(θ \\right)}\\end{array}\\right]$\n"
      ],
      "text/plain": [
       "2×2 SparseArrays.SparseMatrixCSC{Sym, Int64} with 4 stored entries:\n",
       " -2*sin(θ)^4*cos(θ)^2  -2*sin(θ)^3*cos(θ)^3\n",
       "    2*sin(θ)^5*cos(θ)   2*sin(θ)^4*cos(θ)^2"
      ]
     },
     "execution_count": 23,
     "metadata": {},
     "output_type": "execute_result"
    }
   ],
   "source": [
    "#(m,n) to (m-1,n+1)\n",
    "idx1 = [index(ltc, (m, n, 1)), index(ltc, (m, n, 2))]\n",
    "idx2 = [index(ltc, (m-1, n+1, 1)), index(ltc, (m-1, n+1, 2))]\n",
    "\n",
    "H[idx1,idx2]"
   ]
  },
  {
   "cell_type": "markdown",
   "id": "e297ee94",
   "metadata": {},
   "source": [
    "$\\langle m,n |H| m+1,n+1 \\rangle$"
   ]
  },
  {
   "cell_type": "code",
   "execution_count": 24,
   "id": "512b4cba",
   "metadata": {},
   "outputs": [
    {
     "data": {
      "text/latex": [
       "$\\left[ \\begin{array}{rr}2 \\sin^{2}{\\left(θ \\right)} \\cos^{4}{\\left(θ \\right)}&- 2 \\sin^{3}{\\left(θ \\right)} \\cos^{3}{\\left(θ \\right)}\\\\2 \\sin{\\left(θ \\right)} \\cos^{5}{\\left(θ \\right)}&- 2 \\sin^{2}{\\left(θ \\right)} \\cos^{4}{\\left(θ \\right)}\\end{array}\\right]$\n"
      ],
      "text/plain": [
       "2×2 SparseArrays.SparseMatrixCSC{Sym, Int64} with 4 stored entries:\n",
       " 2*sin(θ)^2*cos(θ)^4  -2*sin(θ)^3*cos(θ)^3\n",
       "   2*sin(θ)*cos(θ)^5  -2*sin(θ)^2*cos(θ)^4"
      ]
     },
     "execution_count": 24,
     "metadata": {},
     "output_type": "execute_result"
    }
   ],
   "source": [
    "#(m,n) to (m-1,n+1)\n",
    "idx1 = [index(ltc, (m, n, 1)), index(ltc, (m, n, 2))]\n",
    "idx2 = [index(ltc, (m+1, n+1, 1)), index(ltc, (m+1, n+1, 2))]\n",
    "\n",
    "H[idx1,idx2]"
   ]
  },
  {
   "cell_type": "code",
   "execution_count": null,
   "id": "8efc63cf",
   "metadata": {},
   "outputs": [],
   "source": []
  }
 ],
 "metadata": {
  "kernelspec": {
   "display_name": "Julia 1.7.2",
   "language": "julia",
   "name": "julia-1.7"
  },
  "language_info": {
   "file_extension": ".jl",
   "mimetype": "application/julia",
   "name": "julia",
   "version": "1.7.2"
  }
 },
 "nbformat": 4,
 "nbformat_minor": 5
}
